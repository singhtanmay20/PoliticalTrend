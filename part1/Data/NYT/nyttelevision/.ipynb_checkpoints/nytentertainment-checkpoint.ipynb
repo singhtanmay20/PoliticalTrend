{
 "cells": [
  {
   "cell_type": "code",
   "execution_count": 1,
   "metadata": {},
   "outputs": [],
   "source": [
    "from nytimesarticle import articleAPI\n",
    "api = articleAPI('MqGpINkbKmy15GOA36p7DYm09JTXSAaO ')\n",
    "import json\n",
    "import urllib.request\n",
    "from bs4 import BeautifulSoup\n",
    "all_articles = []"
   ]
  },
  {
   "cell_type": "code",
   "execution_count": 3,
   "metadata": {},
   "outputs": [],
   "source": [
    "def get_articles(query):\n",
    "    j=1\n",
    "    for i in range(0,11): \n",
    "        articles = api.search(q = query, begin_date=20190101,page=i)\n",
    "        print(\"-------------------------------------------------------------------------------------------\")\n",
    "        print(i)\n",
    "        if(\"response\" in articles):\n",
    "            \n",
    "            for items in articles[\"response\"][\"docs\"]:\n",
    "                f=open('nyttelevision'+str(j)+\".txt\",'w')\n",
    "                article_url=items[\"web_url\"]\n",
    "                soup = BeautifulSoup(urllib.request.urlopen(article_url), 'html.parser')\n",
    "                soup.prettify()\n",
    "                print(article_url)\n",
    "                # retrieve all of the paragraph tags\n",
    "                paragraphs=soup.find('article').find_all('p')\n",
    "                for paragraph in paragraphs:\n",
    "                    f.write(paragraph.text)\n",
    "                j+=1\n",
    "                \n",
    "                all_articles.append(article_url)\n",
    "            \n",
    "    return(all_articles)\n"
   ]
  },
  {
   "cell_type": "code",
   "execution_count": null,
   "metadata": {
    "scrolled": false
   },
   "outputs": [
    {
     "name": "stdout",
     "output_type": "stream",
     "text": [
      "-------------------------------------------------------------------------------------------\n",
      "0\n",
      "https://www.nytimes.com/2019/01/07/obituaries/sylvia-chase-dead.html\n",
      "https://www.nytimes.com/2019/04/05/nyregion/sara-haines-abc-sunday-routine.html\n",
      "https://www.nytimes.com/2019/01/11/obituaries/john-falsey-dead.html\n",
      "https://www.nytimes.com/2019/02/22/obituaries/david-horowitz-dead.html\n",
      "https://www.nytimes.com/2019/04/14/arts/television/game-of-thrones-hbo-producer.html\n",
      "https://www.nytimes.com/2019/04/12/arts/television/les-miserables-collins-oyelowo.html\n",
      "https://www.nytimes.com/2019/03/14/arts/television/television-writers-harassment.html\n",
      "https://www.nytimes.com/2019/02/26/obituaries/perry-wolff-dead.html\n",
      "https://www.nytimes.com/2019/04/05/arts/television/game-of-thrones-television.html\n",
      "https://www.nytimes.com/2019/02/06/business/media/trump-state-of-the-union-media.html\n",
      "-------------------------------------------------------------------------------------------\n",
      "1\n",
      "https://www.nytimes.com/2019/04/08/arts/television/walking-dead-new-spinoff.html\n",
      "https://www.nytimes.com/2019/02/28/us/trump-voters-cohen-hearing.html\n",
      "https://www.nytimes.com/2019/03/30/arts/television/whats-on-tv-saturday-sandra-oh-snl-mamma-mia.html\n",
      "https://www.nytimes.com/2019/03/31/arts/television/mrs-wilson-review.html\n",
      "https://www.nytimes.com/2019/04/03/arts/television/warrior-review.html\n",
      "https://www.nytimes.com/2019/01/16/technology/personaltech/how-to-sort-through-a-cornucopia-of-television-shows.html\n",
      "https://www.nytimes.com/2019/04/01/arts/television/game-of-thrones-season-6.html\n",
      "https://www.nytimes.com/2019/02/19/arts/television/arrested-development-season-5-part-2-release-date.html\n",
      "https://www.nytimes.com/2019/03/26/arts/television/jordan-peele-twilight-zone.html\n",
      "https://www.nytimes.com/2019/04/07/arts/television/fosse-verdon.html\n",
      "-------------------------------------------------------------------------------------------\n",
      "2\n",
      "https://www.nytimes.com/2019/04/13/arts/television/whats-on-tv-saturday-crazy-rich-asians-bts-saturday-night-live.html\n",
      "https://www.nytimes.com/2019/04/06/arts/television/uk-coronation-street-black-family.html\n",
      "https://www.nytimes.com/2019/03/08/arts/television/manhunt-kingdom-netflix-false-flag.html\n",
      "https://www.nytimes.com/2019/03/20/arts/television/abbys-nbc-outdoor-sitcom.html\n",
      "https://www.nytimes.com/2019/01/16/world/middleeast/iran-us-journalist-arrest.html\n",
      "https://www.nytimes.com/2019/02/24/arts/television/enemy-within-whiskey-cavalier-review.html\n",
      "https://www.nytimes.com/2019/02/15/arts/television/whats-on-tv-friday-proven-innocent-and-lorena.html\n",
      "https://www.nytimes.com/2019/03/26/arts/television/whats-on-tv-tuesday-miracle-workers-and-temptation-island.html\n",
      "https://www.nytimes.com/2019/01/07/arts/television/david-chase-sopranos-interview.html\n",
      "https://www.nytimes.com/2019/01/10/arts/television/david-chase-edie-falco-sopranos-20th-anniversary.html\n",
      "-------------------------------------------------------------------------------------------\n",
      "3\n",
      "https://www.nytimes.com/2019/02/10/arts/television/whats-on-tv-sunday-the-grammys-and-patriot-act.html\n",
      "https://www.nytimes.com/2019/04/09/arts/television/venezuela-protest-comedy-maduro.html\n",
      "https://www.nytimes.com/2019/02/19/arts/television/whats-on-tv-tuesday-at-home-with-amy-sedaris-and-the-breaker-upperers.html\n",
      "https://www.nytimes.com/2019/01/11/arts/television/true-detective-season-2.html\n",
      "https://www.nytimes.com/2019/01/03/arts/television/winter-tv-shows.html\n",
      "https://www.nytimes.com/2019/03/09/arts/television/whats-on-tv-saturday-jurassic-world-fallen-kingdom-and-drag-me-down-the-aisle.html\n",
      "https://www.nytimes.com/2019/03/29/arts/television/netflix-canada-best-april.html\n",
      "https://www.nytimes.com/2019/04/18/arts/television/ramy-youssef-hulu.html\n",
      "https://www.nytimes.com/2019/02/24/arts/television/true-detective-season-3-finale-recap.html\n",
      "https://www.nytimes.com/2019/02/19/arts/television/game-of-thrones-season-8.html\n",
      "-------------------------------------------------------------------------------------------\n",
      "4\n",
      "https://www.nytimes.com/2019/02/21/arts/television/shtisel-netflix-orthodox-judaism-hasidim.html\n",
      "https://www.nytimes.com/2019/02/01/arts/television/abc-murders-review-john-malkovich-poirot.html\n",
      "https://www.nytimes.com/2019/02/26/arts/television/russian-doll-good-place-barry.html\n",
      "https://www.nytimes.com/2019/01/24/arts/television/black-earth-rising-netflix-review.html\n",
      "https://www.nytimes.com/2019/01/29/arts/television/kimmy-schmidt-netflix.html\n",
      "https://www.nytimes.com/2019/01/29/arts/television/empire-jussie-smollett-attacked.html\n",
      "https://www.nytimes.com/2019/01/21/arts/television/conan-obrien-new-show.html\n",
      "https://www.nytimes.com/2019/03/31/arts/television/saturday-night-live-mueller-finall-report-russia-trump.html\n",
      "https://www.nytimes.com/2019/04/04/arts/television/game-of-thrones-series.html\n",
      "https://www.nytimes.com/2019/01/10/arts/television/review-informer-amazon.html\n",
      "-------------------------------------------------------------------------------------------\n",
      "5\n",
      "https://www.nytimes.com/2019/01/17/arts/television/black-monday-review.html\n",
      "https://www.nytimes.com/2019/01/13/arts/television/review-the-passage.html\n",
      "https://www.nytimes.com/2019/01/27/arts/television/true-detective-recap.html\n",
      "https://www.nytimes.com/2019/04/18/arts/television/ramy-review.html\n",
      "https://www.nytimes.com/2019/04/15/business/media/game-of-thrones-ratings.html\n",
      "https://www.nytimes.com/2019/02/12/arts/television/whats-on-tv-tuesday-boomerang-and-miracle-workers.html\n",
      "https://www.nytimes.com/2019/02/25/arts/television/stunt-accidents-penalty-safety.html\n",
      "https://www.nytimes.com/2019/04/14/arts/television/game-of-thrones-season-8-premiere-maisie-williams-sophie-turner-isaac-hempstead-wright.html\n",
      "https://www.nytimes.com/2019/04/14/arts/television/game-of-thrones-season-8-premiere-winterfell-review.html\n",
      "https://www.nytimes.com/2019/04/14/arts/television/billions-recap.html\n",
      "-------------------------------------------------------------------------------------------\n",
      "6\n",
      "https://www.nytimes.com/2019/04/14/arts/television/game-of-thrones-season-8-preview.html\n",
      "https://www.nytimes.com/2019/02/02/arts/television/whats-on-tv-saturday-pick-of-the-litter-and-bordertown.html\n",
      "https://www.nytimes.com/2019/04/15/arts/television/game-of-thrones-season-8-premiere-dragon-jon-snow.html\n",
      "https://www.nytimes.com/2019/04/15/arts/television/game-of-thrones-season-8-premiere-golden-company.html\n",
      "https://www.nytimes.com/2019/04/11/arts/television/star-trek-discovery-recap.html\n",
      "https://www.nytimes.com/2019/04/12/arts/television/game-of-thrones-season-7.html\n",
      "https://www.nytimes.com/2019/02/05/arts/television/whats-on-tv-tuesday-american-soul-and-state-of-the-union-address.html\n",
      "https://www.nytimes.com/2019/01/08/arts/television/trump-prime-time-speech-border-review.html\n"
     ]
    }
   ],
   "source": [
    "f=open('nyturltelevision','w')\n",
    "Articles=get_articles(\"television\")\n",
    "for i in range(len(Articles)):\n",
    "    f.write(Articles[i])"
   ]
  },
  {
   "cell_type": "code",
   "execution_count": 98,
   "metadata": {},
   "outputs": [],
   "source": []
  },
  {
   "cell_type": "code",
   "execution_count": 99,
   "metadata": {},
   "outputs": [
    {
     "data": {
      "text/plain": [
       "100"
      ]
     },
     "execution_count": 99,
     "metadata": {},
     "output_type": "execute_result"
    }
   ],
   "source": []
  },
  {
   "cell_type": "code",
   "execution_count": null,
   "metadata": {},
   "outputs": [],
   "source": []
  },
  {
   "cell_type": "code",
   "execution_count": null,
   "metadata": {},
   "outputs": [],
   "source": []
  },
  {
   "cell_type": "code",
   "execution_count": null,
   "metadata": {},
   "outputs": [],
   "source": []
  },
  {
   "cell_type": "code",
   "execution_count": null,
   "metadata": {},
   "outputs": [],
   "source": []
  },
  {
   "cell_type": "code",
   "execution_count": null,
   "metadata": {},
   "outputs": [],
   "source": [
    "\n"
   ]
  },
  {
   "cell_type": "code",
   "execution_count": null,
   "metadata": {},
   "outputs": [],
   "source": []
  },
  {
   "cell_type": "code",
   "execution_count": null,
   "metadata": {},
   "outputs": [],
   "source": []
  },
  {
   "cell_type": "code",
   "execution_count": null,
   "metadata": {},
   "outputs": [],
   "source": []
  },
  {
   "cell_type": "code",
   "execution_count": null,
   "metadata": {},
   "outputs": [],
   "source": []
  },
  {
   "cell_type": "code",
   "execution_count": null,
   "metadata": {
    "scrolled": false
   },
   "outputs": [],
   "source": []
  },
  {
   "cell_type": "code",
   "execution_count": null,
   "metadata": {},
   "outputs": [],
   "source": []
  },
  {
   "cell_type": "code",
   "execution_count": null,
   "metadata": {},
   "outputs": [],
   "source": []
  },
  {
   "cell_type": "code",
   "execution_count": null,
   "metadata": {},
   "outputs": [],
   "source": []
  }
 ],
 "metadata": {
  "kernelspec": {
   "display_name": "Python 3",
   "language": "python",
   "name": "python3"
  },
  "language_info": {
   "codemirror_mode": {
    "name": "ipython",
    "version": 3
   },
   "file_extension": ".py",
   "mimetype": "text/x-python",
   "name": "python",
   "nbconvert_exporter": "python",
   "pygments_lexer": "ipython3",
   "version": "3.5.2"
  }
 },
 "nbformat": 4,
 "nbformat_minor": 2
}
