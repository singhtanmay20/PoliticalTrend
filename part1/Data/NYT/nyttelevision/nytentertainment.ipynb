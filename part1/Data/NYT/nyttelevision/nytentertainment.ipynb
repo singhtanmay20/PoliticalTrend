{
 "cells": [
  {
   "cell_type": "code",
   "execution_count": 1,
   "metadata": {},
   "outputs": [],
   "source": [
    "from nytimesarticle import articleAPI\n",
    "api = articleAPI('MqGpINkbKmy15GOA36p7DYm09JTXSAaO ')\n",
    "import json\n",
    "import urllib.request\n",
    "from bs4 import BeautifulSoup\n",
    "all_articles = []"
   ]
  },
  {
   "cell_type": "code",
   "execution_count": 4,
   "metadata": {},
   "outputs": [],
   "source": [
    "def get_articles(query):\n",
    "    j=77\n",
    "    for i in range(9,11): \n",
    "        articles = api.search(q = query, begin_date=20190101,page=i)\n",
    "        print(\"-------------------------------------------------------------------------------------------\")\n",
    "        print(i)\n",
    "        if(\"response\" in articles):\n",
    "            \n",
    "            for items in articles[\"response\"][\"docs\"]:\n",
    "                f=open('nyttelevision'+str(j)+\".txt\",'w')\n",
    "                article_url=items[\"web_url\"]\n",
    "                soup = BeautifulSoup(urllib.request.urlopen(article_url), 'html.parser')\n",
    "                soup.prettify()\n",
    "                print(article_url)\n",
    "                # retrieve all of the paragraph tags\n",
    "                paragraphs=soup.find('article').find_all('p')\n",
    "                for paragraph in paragraphs:\n",
    "                    f.write(paragraph.text)\n",
    "                j+=1\n",
    "                \n",
    "                all_articles.append(article_url)\n",
    "            \n",
    "    return(all_articles)\n"
   ]
  },
  {
   "cell_type": "code",
   "execution_count": 5,
   "metadata": {
    "scrolled": false
   },
   "outputs": [
    {
     "name": "stdout",
     "output_type": "stream",
     "text": [
      "-------------------------------------------------------------------------------------------\n",
      "9\n",
      "https://www.nytimes.com/2019/03/31/arts/television/billions-chickentown-review.html\n",
      "https://www.nytimes.com/2019/04/03/arts/television/game-of-thrones-season-8-questions.html\n",
      "https://www.nytimes.com/2019/03/31/arts/television/whats-on-tv-sunday-veep-and-10-things-i-hate-about-you.html\n",
      "https://www.nytimes.com/2019/01/07/arts/television/whats-on-tv-monday-the-bachelor-and-friday-night-lights.html\n",
      "https://www.nytimes.com/2019/03/29/arts/television/game-of-thrones-season-5.html\n",
      "https://www.nytimes.com/2019/03/31/arts/television/twilight-zone-review.html\n",
      "https://www.nytimes.com/2019/03/29/arts/television/hanna-review.html\n",
      "https://www.nytimes.com/2019/02/14/arts/television/umbrella-academy-doom-patrol-review.html\n",
      "https://www.nytimes.com/2019/03/28/arts/television/how-much-watching-time-do-you-have-this-weekend.html\n",
      "https://www.nytimes.com/2019/03/29/arts/television/adnan-syed-amy-berg-documentary.html\n",
      "-------------------------------------------------------------------------------------------\n",
      "10\n",
      "https://www.nytimes.com/2019/03/08/arts/television/star-trek-discovery-season-2-episode-8-the-mother-of-all-callbacks.html\n",
      "https://www.nytimes.com/2019/03/04/arts/television/luke-perry-90210-riverdale-death.html\n",
      "https://www.nytimes.com/2019/01/20/arts/television/saturday-night-live-donald-trump-deal-or-no-deal.html\n",
      "https://www.nytimes.com/2019/03/25/arts/television/game-of-thrones-season-5.html\n",
      "https://www.nytimes.com/2019/01/06/arts/television/golden-globes-review.html\n",
      "https://www.nytimes.com/2019/03/26/arts/television/what-we-do-in-the-shadows-review.html\n",
      "https://www.nytimes.com/2019/03/22/arts/television/game-of-thrones-season-4.html\n",
      "https://www.nytimes.com/2019/03/27/arts/television/project-runway-all-stars-jc-penney.html\n",
      "https://www.nytimes.com/2019/01/15/arts/television/whats-on-tv-tuesday-roswell-new-mexico-and-corporate.html\n",
      "https://www.nytimes.com/2019/03/22/arts/television/star-trek-discovery-recap.html\n"
     ]
    }
   ],
   "source": [
    "f=open('nyturltelevision','w')\n",
    "Articles=get_articles(\"television\")\n",
    "for i in range(len(Articles)):\n",
    "    f.write(Articles[i])"
   ]
  },
  {
   "cell_type": "code",
   "execution_count": 98,
   "metadata": {},
   "outputs": [],
   "source": []
  },
  {
   "cell_type": "code",
   "execution_count": 99,
   "metadata": {},
   "outputs": [
    {
     "data": {
      "text/plain": [
       "100"
      ]
     },
     "execution_count": 99,
     "metadata": {},
     "output_type": "execute_result"
    }
   ],
   "source": []
  },
  {
   "cell_type": "code",
   "execution_count": null,
   "metadata": {},
   "outputs": [],
   "source": []
  },
  {
   "cell_type": "code",
   "execution_count": null,
   "metadata": {},
   "outputs": [],
   "source": []
  },
  {
   "cell_type": "code",
   "execution_count": null,
   "metadata": {},
   "outputs": [],
   "source": []
  },
  {
   "cell_type": "code",
   "execution_count": null,
   "metadata": {},
   "outputs": [],
   "source": []
  },
  {
   "cell_type": "code",
   "execution_count": null,
   "metadata": {},
   "outputs": [],
   "source": [
    "\n"
   ]
  },
  {
   "cell_type": "code",
   "execution_count": null,
   "metadata": {},
   "outputs": [],
   "source": []
  },
  {
   "cell_type": "code",
   "execution_count": null,
   "metadata": {},
   "outputs": [],
   "source": []
  },
  {
   "cell_type": "code",
   "execution_count": null,
   "metadata": {},
   "outputs": [],
   "source": []
  },
  {
   "cell_type": "code",
   "execution_count": null,
   "metadata": {},
   "outputs": [],
   "source": []
  },
  {
   "cell_type": "code",
   "execution_count": null,
   "metadata": {
    "scrolled": false
   },
   "outputs": [],
   "source": []
  },
  {
   "cell_type": "code",
   "execution_count": null,
   "metadata": {},
   "outputs": [],
   "source": []
  },
  {
   "cell_type": "code",
   "execution_count": null,
   "metadata": {},
   "outputs": [],
   "source": []
  },
  {
   "cell_type": "code",
   "execution_count": null,
   "metadata": {},
   "outputs": [],
   "source": []
  }
 ],
 "metadata": {
  "kernelspec": {
   "display_name": "Python 3",
   "language": "python",
   "name": "python3"
  },
  "language_info": {
   "codemirror_mode": {
    "name": "ipython",
    "version": 3
   },
   "file_extension": ".py",
   "mimetype": "text/x-python",
   "name": "python",
   "nbconvert_exporter": "python",
   "pygments_lexer": "ipython3",
   "version": "3.5.2"
  }
 },
 "nbformat": 4,
 "nbformat_minor": 2
}
