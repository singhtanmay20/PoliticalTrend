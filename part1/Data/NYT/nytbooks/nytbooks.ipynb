{
 "cells": [
  {
   "cell_type": "code",
   "execution_count": 10,
   "metadata": {},
   "outputs": [],
   "source": [
    "from nytimesarticle import articleAPI\n",
    "api = articleAPI('MqGpINkbKmy15GOA36p7DYm09JTXSAaO ')\n",
    "import json\n",
    "import urllib.request\n",
    "from bs4 import BeautifulSoup\n",
    "all_articles = []"
   ]
  },
  {
   "cell_type": "code",
   "execution_count": 17,
   "metadata": {},
   "outputs": [],
   "source": [
    "def get_articles(query):\n",
    "    j=81\n",
    "    for i in range(10,14): \n",
    "        articles = api.search(q = query, begin_date=20190101,page=i)\n",
    "        print(\"-------------------------------------------------------------------------------------------\")\n",
    "        print(i)\n",
    "        if(\"response\" in articles):\n",
    "            \n",
    "            for items in articles[\"response\"][\"docs\"]:\n",
    "                f=open('nytbook'+str(j)+\".txt\",'w')\n",
    "                article_url=items[\"web_url\"]\n",
    "                soup = BeautifulSoup(urllib.request.urlopen(article_url), 'html.parser')\n",
    "                soup.prettify()\n",
    "                print(article_url)\n",
    "                # retrieve all of the paragraph tags\n",
    "                paragraphs=soup.find('article').find_all('p')\n",
    "                for paragraph in paragraphs:\n",
    "                    f.write(paragraph.text)\n",
    "                j+=1\n",
    "                \n",
    "                all_articles.append(article_url)\n",
    "            \n",
    "    return(all_articles)\n"
   ]
  },
  {
   "cell_type": "code",
   "execution_count": 18,
   "metadata": {
    "scrolled": false
   },
   "outputs": [
    {
     "name": "stdout",
     "output_type": "stream",
     "text": [
      "-------------------------------------------------------------------------------------------\n",
      "10\n",
      "https://www.nytimes.com/2019/02/22/books/review/dave-cullen-parkland-best-seller.html\n",
      "https://www.nytimes.com/2019/03/11/books/scholar-of-the-marshall-plan-wins-american-history-book-prize.html\n",
      "https://www.nytimes.com/2019/02/07/books/review/9-new-books-we-recommend-this-week.html\n",
      "https://www.nytimes.com/paidpost/china-daily/books/british-historian-fleshes-out-his-best-selling-book-on-the-silk-road-with-fresh-detail.html\n",
      "https://www.nytimes.com/2019/02/12/t-magazine/edward-orloff-books-rift-cabinetry.html\n",
      "https://www.nytimes.com/2019/02/14/books/review/9-new-books-we-recommend-this-week.html\n",
      "https://www.nytimes.com/2019/03/14/books/review/7-new-books-we-recommend-this-week.html\n",
      "https://www.nytimes.com/2019/01/31/books/review/10-new-books-we-recommend-this-week.html\n",
      "https://www.nytimes.com/2019/03/20/arts/awa-comic-books-publisher.html\n",
      "https://www.nytimes.com/2019/01/04/books/review/becoming-michelle-obama-international-best-seller.html\n",
      "-------------------------------------------------------------------------------------------\n",
      "11\n",
      "https://www.nytimes.com/2019/02/11/nyregion/metropolitan-diary.html\n",
      "https://www.nytimes.com/2019/04/05/reader-center/queer-love-jamal-jordan.html\n",
      "https://www.nytimes.com/2019/02/25/todayspaper/quotation-of-the-day-in-green-book-victory-oscar-critics-see-an-old-hollywood-tale.html\n",
      "https://www.nytimes.com/2019/02/25/business/media/green-book-spike-lee-reaction.html\n",
      "https://www.nytimes.com/2019/01/24/books/review/9-new-books-we-recommend-this-week.html\n",
      "https://www.nytimes.com/2019/02/26/books/review-they-were-her-property-white-women-slave-owners-stephanie-jones-rogers.html\n",
      "https://www.nytimes.com/2019/02/28/theater/superhero-musical-second-stage-theater-review.html\n",
      "https://www.nytimes.com/2019/03/29/sports/avenatti-basketball.html\n",
      "https://www.nytimes.com/2019/02/26/obituaries/jeraldine-saunders-dead.html\n",
      "https://www.nytimes.com/2019/01/10/books/review/8-new-books-we-recommend-this-week.html\n",
      "-------------------------------------------------------------------------------------------\n",
      "12\n",
      "https://www.nytimes.com/2019/04/15/us/politics/bernie-sanders-fox-town-hall.html\n",
      "https://www.nytimes.com/2019/02/01/books/review/mary-pipher-women-rowing-north-best-seller.html\n",
      "https://www.nytimes.com/2019/01/23/style/mario-buatta-death-pen-america-books.html\n",
      "https://www.nytimes.com/2019/02/25/movies/oscars-critics-green-book.html\n",
      "https://www.nytimes.com/2019/02/07/obituaries/lili-wronker-dead.html\n",
      "https://www.nytimes.com/2019/01/14/nyregion/airbnb-illegal-brokers-real-estate.html\n",
      "https://www.nytimes.com/2019/02/22/books/review/meg-wolitzer-the-wife.html\n",
      "https://www.nytimes.com/2019/03/22/us/baltimore-mayor-catherine-pugh-book-scandal.html\n",
      "https://www.nytimes.com/2019/04/14/opinion/ilhan-omar-minority-women.html\n",
      "https://www.nytimes.com/2019/01/08/arts/television/whats-on-tv-tuesday-good-trouble-and-project-blue-book.html\n",
      "-------------------------------------------------------------------------------------------\n",
      "13\n",
      "https://www.nytimes.com/2019/02/08/fashion/kanye-west-fashion-week-philipp-plein.html\n",
      "https://www.nytimes.com/2019/01/06/movies/golden-globes.html\n",
      "https://www.nytimes.com/2019/02/21/books/review/10-new-books-we-recommend-this-week.html\n",
      "https://www.nytimes.com/2019/01/18/books/review/marie-benedict-only-woman-in-the-room-best-seller.html\n",
      "https://www.nytimes.com/2019/01/11/business/book-retire-early-but-how.html\n",
      "https://www.nytimes.com/2019/01/17/books/review/8-new-books-we-recommend-this-week.html\n",
      "https://www.nytimes.com/2019/01/13/obituaries/john-burningham-dies-at-82.html\n",
      "https://www.nytimes.com/2019/01/11/books/kamala-harris-book.html\n",
      "https://www.nytimes.com/2019/02/01/briefing/donald-trump-super-bowl-india.html\n",
      "https://www.nytimes.com/2019/01/22/books/bollingen-prize-american-poetry-nominees-national-book-critics-circle-edgar-allan-poe-awards-announced.html\n"
     ]
    }
   ],
   "source": [
    "f=open('nyturlbook','w')\n",
    "Articles=get_articles(\"book\")\n",
    "for i in range(len(Articles)):\n",
    "    f.write(Articles[i])"
   ]
  },
  {
   "cell_type": "code",
   "execution_count": 98,
   "metadata": {},
   "outputs": [],
   "source": []
  },
  {
   "cell_type": "code",
   "execution_count": 99,
   "metadata": {},
   "outputs": [
    {
     "data": {
      "text/plain": [
       "100"
      ]
     },
     "execution_count": 99,
     "metadata": {},
     "output_type": "execute_result"
    }
   ],
   "source": []
  },
  {
   "cell_type": "code",
   "execution_count": null,
   "metadata": {},
   "outputs": [],
   "source": []
  },
  {
   "cell_type": "code",
   "execution_count": null,
   "metadata": {},
   "outputs": [],
   "source": []
  },
  {
   "cell_type": "code",
   "execution_count": null,
   "metadata": {},
   "outputs": [],
   "source": []
  },
  {
   "cell_type": "code",
   "execution_count": null,
   "metadata": {},
   "outputs": [],
   "source": []
  },
  {
   "cell_type": "code",
   "execution_count": null,
   "metadata": {},
   "outputs": [],
   "source": [
    "\n"
   ]
  },
  {
   "cell_type": "code",
   "execution_count": null,
   "metadata": {},
   "outputs": [],
   "source": []
  },
  {
   "cell_type": "code",
   "execution_count": null,
   "metadata": {},
   "outputs": [],
   "source": []
  },
  {
   "cell_type": "code",
   "execution_count": null,
   "metadata": {},
   "outputs": [],
   "source": []
  },
  {
   "cell_type": "code",
   "execution_count": null,
   "metadata": {},
   "outputs": [],
   "source": []
  },
  {
   "cell_type": "code",
   "execution_count": null,
   "metadata": {
    "scrolled": false
   },
   "outputs": [],
   "source": []
  },
  {
   "cell_type": "code",
   "execution_count": null,
   "metadata": {},
   "outputs": [],
   "source": []
  },
  {
   "cell_type": "code",
   "execution_count": null,
   "metadata": {},
   "outputs": [],
   "source": []
  },
  {
   "cell_type": "code",
   "execution_count": null,
   "metadata": {},
   "outputs": [],
   "source": []
  }
 ],
 "metadata": {
  "kernelspec": {
   "display_name": "Python 3",
   "language": "python",
   "name": "python3"
  },
  "language_info": {
   "codemirror_mode": {
    "name": "ipython",
    "version": 3
   },
   "file_extension": ".py",
   "mimetype": "text/x-python",
   "name": "python",
   "nbconvert_exporter": "python",
   "pygments_lexer": "ipython3",
   "version": "3.5.2"
  }
 },
 "nbformat": 4,
 "nbformat_minor": 2
}
