{
 "cells": [
  {
   "cell_type": "code",
   "execution_count": 3,
   "metadata": {},
   "outputs": [],
   "source": [
    "from nytimesarticle import articleAPI\n",
    "api = articleAPI('MqGpINkbKmy15GOA36p7DYm09JTXSAaO ')\n",
    "import json\n",
    "import urllib.request\n",
    "from bs4 import BeautifulSoup\n",
    "all_articles = []"
   ]
  },
  {
   "cell_type": "code",
   "execution_count": 4,
   "metadata": {},
   "outputs": [],
   "source": [
    "def get_articles(query):\n",
    "    j=1\n",
    "    for i in range(0,14): \n",
    "        articles = api.search(q = query, begin_date=20190101,page=i)\n",
    "        print(\"-------------------------------------------------------------------------------------------\")\n",
    "        print(i)\n",
    "        if(\"response\" in articles):\n",
    "            \n",
    "            for items in articles[\"response\"][\"docs\"]:\n",
    "                f=open('nytdance'+str(j)+\".txt\",'w')\n",
    "                article_url=items[\"web_url\"]\n",
    "                soup = BeautifulSoup(urllib.request.urlopen(article_url), 'html.parser')\n",
    "                soup.prettify()\n",
    "                print(article_url)\n",
    "                # retrieve all of the paragraph tags\n",
    "                paragraphs=soup.find('article').find_all('p')\n",
    "                for paragraph in paragraphs:\n",
    "                    f.write(paragraph.text)\n",
    "                j+=1\n",
    "                \n",
    "                all_articles.append(article_url)\n",
    "            \n",
    "    return(all_articles)\n"
   ]
  },
  {
   "cell_type": "code",
   "execution_count": 5,
   "metadata": {
    "scrolled": false
   },
   "outputs": [
    {
     "name": "stdout",
     "output_type": "stream",
     "text": [
      "-------------------------------------------------------------------------------------------\n",
      "0\n",
      "https://www.nytimes.com/2019/04/14/arts/dance/dance-theater-of-harlem-review.html\n",
      "https://www.nytimes.com/2019/03/13/arts/dance/hubbard-street-dance-chicago-ohad-naharin-crystal-pite.html\n",
      "https://www.nytimes.com/2019/04/11/arts/dance/nyc-this-weekend-dance.html\n",
      "https://www.nytimes.com/2019/04/04/arts/dance/nyc-this-weekend-dance.html\n",
      "https://www.nytimes.com/2019/03/28/arts/dance/nyc-this-weekend-dance.html\n",
      "https://www.nytimes.com/2019/03/28/arts/dance/review-batsheva-venezuela.html\n",
      "https://www.nytimes.com/2019/03/14/arts/dance/nyc-this-weekend-dance.html\n",
      "https://www.nytimes.com/2019/03/21/arts/dance/nyc-this-weekend-dance.html\n",
      "https://www.nytimes.com/2019/03/07/arts/dance/nyc-this-weekend-dance.html\n",
      "https://www.nytimes.com/2019/02/28/arts/dance/nyc-this-weekend-dance.html\n",
      "-------------------------------------------------------------------------------------------\n",
      "1\n",
      "https://www.nytimes.com/2019/04/03/arts/dance/dance-theater-of-harlem-arthur-mitchells-dream-at-50.html\n",
      "https://www.nytimes.com/2019/02/21/arts/dance/nyc-this-weekend-dance.html\n",
      "https://www.nytimes.com/2019/02/14/arts/dance/nyc-this-weekend-dance.html\n",
      "https://www.nytimes.com/2019/04/18/arts/dance/nyc-this-weekend-dance.html\n",
      "https://www.nytimes.com/2019/02/07/arts/dance/dance-in-nyc-this-week.html\n",
      "https://www.nytimes.com/2019/04/01/arts/dance/harkness-dance-center-92y-expansion.html\n",
      "https://www.nytimes.com/2019/04/16/arts/dance/oklahoma-dream-ballet.html\n",
      "https://www.nytimes.com/2019/03/07/arts/dance/silas-farley-metarts-live-metropolitan-museum.html\n",
      "https://www.nytimes.com/2019/01/31/arts/dance/dance-in-nyc-this-week.html\n",
      "https://www.nytimes.com/2019/01/24/arts/dance/dance-in-nyc-this-week.html\n",
      "-------------------------------------------------------------------------------------------\n",
      "2\n",
      "https://www.nytimes.com/2019/03/17/arts/dance/dance-and-horror-climax-gaspar-noe.html\n",
      "https://www.nytimes.com/2019/01/10/arts/dance/dance-in-nyc-this-week.html\n",
      "https://www.nytimes.com/2019/03/20/arts/dance/annabelle-lopez-ochoa-wins-jacob-pillow-dance-award.html\n",
      "https://www.nytimes.com/2019/03/19/arts/dance/married-angel-balanchine-ballet.html\n",
      "https://www.nytimes.com/2019/01/17/arts/dance/dance-in-nyc-this-week.html\n",
      "https://www.nytimes.com/2019/01/03/arts/dance/dance-in-nyc-this-week.html\n",
      "https://www.nytimes.com/2019/02/15/arts/dance/carlton-dance.html\n",
      "https://www.nytimes.com/2019/03/13/arts/dance/netta-yerushalmy-paramodernities-speaking-in-dance.html\n",
      "https://www.nytimes.com/2019/02/06/arts/dance/speaking-in-dance-its-showtime-nyc.html\n",
      "https://www.nytimes.com/2019/01/24/arts/dance/new-york-city-ballet-shantell-martin-artist.html\n",
      "-------------------------------------------------------------------------------------------\n",
      "3\n",
      "https://www.nytimes.com/2019/04/10/arts/dance/fosse-verdon-dance.html\n",
      "https://www.nytimes.com/2019/04/09/arts/dance/stephen-petronio-rudy-perez-coverage.html\n",
      "https://www.nytimes.com/2019/04/12/arts/dance/learning-to-dance-merce-cunningham-risk-in-calm-containers.html\n",
      "https://www.nytimes.com/2019/04/12/arts/dance/petronio-company-bloodlines-review.html\n",
      "https://www.nytimes.com/2019/03/08/arts/dance/merce-cunningham-harkness.html\n",
      "https://www.nytimes.com/2019/03/26/arts/dance/ann-carlson-choreography-dancing.html\n",
      "https://www.nytimes.com/2019/01/16/arts/dance/cuba-dance-festival-joyce-theater.html\n",
      "https://www.nytimes.com/2019/03/03/opinion/letters/falls-elderly-dance.html\n",
      "https://www.nytimes.com/2019/03/22/arts/dance/batsheva-ohad-naharin-gili-navot.html\n",
      "https://www.nytimes.com/2019/03/20/style/so-i-thought-i-couldnt-dance.html\n",
      "-------------------------------------------------------------------------------------------\n",
      "4\n",
      "https://www.nytimes.com/2019/03/15/arts/dance/paramodernities-review-netta-yerushalmy.html\n",
      "https://www.nytimes.com/2019/02/26/arts/dance/les-arts-florissants-rameau-maitre-a-danser-bam.html\n",
      "https://www.nytimes.com/2019/02/13/arts/dance/gallim-to-create-a-world-review.html\n",
      "https://www.nytimes.com/2019/04/10/obituaries/lawrence-rhodes-dead.html\n",
      "https://www.nytimes.com/2019/02/15/arts/dance/kathy-westwater-review.html\n",
      "https://www.nytimes.com/2019/03/31/arts/dance/michelle-dorrance-review.html\n",
      "https://www.nytimes.com/2019/03/01/learning/do-you-love-to-dance.html\n",
      "https://www.nytimes.com/2019/02/25/arts/dance/pina-bausch-tanztheater-wuppertal.html\n",
      "https://www.nytimes.com/2019/04/02/arts/dance/martha-graham-pam-tanowitz-maxine-doyle.html\n",
      "https://www.nytimes.com/2019/02/21/sports/break-dancing-olympics.html\n",
      "-------------------------------------------------------------------------------------------\n",
      "5\n",
      "https://www.nytimes.com/2019/02/21/sports/break-dancing-olympics.html\n",
      "https://www.nytimes.com/2019/02/14/arts/jane-austen-evening.html\n",
      "https://www.nytimes.com/2019/02/12/arts/dance/recirquel-company-budapest-bam-non-solus.html\n",
      "https://www.nytimes.com/2019/01/22/arts/dance/showing-dances-hidden-side-at-moma.html\n",
      "https://www.nytimes.com/2019/03/29/obituaries/genevieve-oswald-dead.html\n",
      "https://www.nytimes.com/2019/03/12/arts/dance/deborah-jowitt-14th-street-y.html\n",
      "https://www.nytimes.com/aponline/2019/04/15/world/americas/ap-lt-peru-ballet-in-a-slum.html\n",
      "https://www.nytimes.com/2019/04/04/arts/dance/review-natalia-osipovas-pure-dance-with-david-hallberg.html\n",
      "https://www.nytimes.com/2019/02/06/arts/dance/ink-review-camille-a-brown.html\n",
      "https://www.nytimes.com/2019/03/13/arts/dance/temptations-sergio-trujillo.html\n",
      "-------------------------------------------------------------------------------------------\n",
      "6\n",
      "https://www.nytimes.com/2019/03/20/t-magazine/postmodern-dance.html\n",
      "https://www.nytimes.com/2019/01/29/arts/dance/thunderbird-pow-wow-louis-mofsie.html\n",
      "https://www.nytimes.com/2019/02/07/arts/dance/new-york-public-library-dance-division-treasures.html\n",
      "https://www.nytimes.com/2019/04/05/obituaries/kim-english-dead.html\n",
      "https://www.nytimes.com/2019/01/31/arts/dance/review-anne-teresa-de-keersmaeker-verklarte-nacht.html\n",
      "https://www.nytimes.com/2019/02/20/arts/city-ballet-moma-lincoln-kirstein.html\n",
      "https://www.nytimes.com/2019/01/08/arts/dance/reggie-wilson-review.html\n",
      "https://www.nytimes.com/2019/01/07/opinion/letters/alexandria-ocasio-cortez-dancing-video.html\n",
      "https://www.nytimes.com/2019/01/08/arts/dance/aileen-passloff-interview.html\n",
      "https://www.nytimes.com/2019/01/09/arts/dance/guggenheim-brandon-stirling-baker-justin-peck.html\n",
      "-------------------------------------------------------------------------------------------\n",
      "7\n",
      "https://www.nytimes.com/2019/02/27/opinion/disability-dance-alice-sheppard.html\n",
      "https://www.nytimes.com/2019/03/27/learning/learning-with-this-water-drop-its-the-greatest-dancer.html\n",
      "https://www.nytimes.com/2019/03/05/arts/dance/molly-lieber-eleanor-smith-body-comes-apart.html\n",
      "https://www.nytimes.com/2019/04/05/arts/music/sugar-hill-brooklyn-eddie-freeman.html\n",
      "https://www.nytimes.com/2019/01/10/arts/dance/review-miguel-gutierrez-this-bridge.html\n",
      "https://www.nytimes.com/2019/01/15/arts/dance/carlos-acosta-birmingham-royal-ballet.html\n",
      "https://www.nytimes.com/2019/03/03/arts/dance/review-cunningham-harkness-festival.html\n",
      "https://www.nytimes.com/2019/04/04/arts/dance/martha-graham-dance-pam-tanowitz-bobbi-jene-smith.html\n",
      "https://www.nytimes.com/aponline/2019/04/15/us/ap-us-centenarian-yogi.html\n",
      "https://www.nytimes.com/2019/04/13/reader-center/misty-copeland-archive-dance-photos.html\n",
      "-------------------------------------------------------------------------------------------\n",
      "8\n",
      "https://www.nytimes.com/2019/01/14/arts/dance/paul-taylor-world-tour-michael-novak.html\n",
      "https://www.nytimes.com/2019/02/14/obituaries/mable-lee-dead.html\n",
      "https://www.nytimes.com/2019/03/26/science/water-droplets-dance.html\n",
      "https://www.nytimes.com/aponline/2019/04/09/arts/ap-us-tv-fosseverdon.html\n",
      "https://www.nytimes.com/2019/01/05/world/asia/pakistan-lahore-dancing-girls.html\n",
      "https://www.nytimes.com/2019/01/17/travel/at-hidden-fish-in-san-diego-the-dance-of-the-omakase.html\n",
      "https://www.nytimes.com/2019/01/04/us/politics/alexandria-ocasio-cortez-dance-video.html\n",
      "https://www.nytimes.com/2019/03/23/arts/the-week-in-arts-dorrance-dance-janet-jackson-tintoretto.html\n",
      "https://www.nytimes.com/2019/02/06/science/northern-lights-southern-lights.html\n"
     ]
    },
    {
     "name": "stdout",
     "output_type": "stream",
     "text": [
      "https://www.nytimes.com/2019/04/06/opinion/sunday/overconfidence-men-women.html\n",
      "-------------------------------------------------------------------------------------------\n",
      "9\n",
      "https://www.nytimes.com/2019/03/24/opinion/china-taiwan.html\n",
      "https://www.nytimes.com/2019/02/21/arts/music/sammy-davis-jr-documentary-concert.html\n",
      "https://www.nytimes.com/2019/01/11/arts/fortnite-floss-dance-lawsuits.html\n",
      "https://www.nytimes.com/2019/02/10/theater/the-dance-of-death-mies-julie-strindberg-reviews.html\n",
      "https://www.nytimes.com/2019/01/23/obituaries/andy-de-groat-dead.html\n",
      "https://www.nytimes.com/2019/01/11/arts/this-week-in-arts-a-menagerie-fresh-picked-plays-and-cuban-dance.html\n",
      "https://www.nytimes.com/2019/01/12/opinion/sunday/2019-government-shutdown.html\n",
      "https://www.nytimes.com/interactive/2019/04/12/arts/dance/dance-photography-archives.html\n",
      "https://www.nytimes.com/2019/01/30/technology/letitia-james-social-media-bots.html\n",
      "https://www.nytimes.com/2019/04/17/arts/dance/merce-cunningham-night-of-100-solos-review.html\n",
      "-------------------------------------------------------------------------------------------\n",
      "10\n",
      "https://www.nytimes.com/2019/03/29/arts/dance/new-york-city-ballet-2019-2020-season.html\n",
      "https://www.nytimes.com/2019/04/16/arts/dance/youth-america-grand-prix-ballet-competition.html\n",
      "https://www.nytimes.com/2019/02/26/arts/dance/angie-pittman-came-up-in-a-lonely-castle.html\n",
      "https://www.nytimes.com/2019/02/18/sports/valorie-kondos-field-ucla-gymnastics.html\n",
      "https://www.nytimes.com/2019/03/26/arts/dance/martha-graham-company-el-penitente.html\n",
      "https://www.nytimes.com/2019/04/12/arts/dance/vienna-state-opera-ballet-academy-abuse.html\n",
      "https://www.nytimes.com/2019/02/28/technology/huawei-children-music-video.html\n",
      "https://www.nytimes.com/2019/03/01/arts/dance/new-york-city-ballet-new-leaders.html\n",
      "https://www.nytimes.com/2019/04/18/arts/dance/speaking-in-dance-pictures-at-an-exhibition.html\n",
      "https://www.nytimes.com/2019/02/28/arts/dance/new-york-city-ballet-jonathan-stafford-wendy-whelan.html\n",
      "-------------------------------------------------------------------------------------------\n",
      "11\n",
      "https://www.nytimes.com/2019/04/10/arts/dance/speaking-in-dance-ayodele-casel.html\n",
      "https://www.nytimes.com/2019/04/04/arts/dance/secular-games-martha-graham-speaking-in-dance.html\n",
      "https://www.nytimes.com/2019/03/01/arts/dance/william-forsythe-boston-ballet.html\n",
      "https://www.nytimes.com/2019/02/22/arts/dance/peter-martins-city-ballet.html\n",
      "https://www.nytimes.com/2019/03/27/arts/dance/ballet-hispanico-sobrerisimo-speaking-in-dance.html\n",
      "https://www.nytimes.com/2019/03/27/arts/dance/dorrance-dance-speakingindance.html\n",
      "https://www.nytimes.com/2019/03/10/arts/dance/critics-notebook-sara-baras-soledad-barrio.html\n",
      "https://www.nytimes.com/2019/02/01/arts/dance/vicky-shick-next-to-the-sink-danspace-project.html\n",
      "https://www.nytimes.com/2019/02/08/arts/dance/pam-tanowitz-joins-lineup-for-city-ballets-spring-gala.html\n",
      "https://www.nytimes.com/2019/01/25/arts/the-place-to-challenge-ballets-gender-stereotypes-in-daily-class.html\n",
      "-------------------------------------------------------------------------------------------\n",
      "12\n",
      "https://www.nytimes.com/2019/01/02/movies/girl-netflix-film-transgender-debate.html\n",
      "https://www.nytimes.com/2019/03/08/arts/dance/review-full-on-forsythe-boston-ballet.html\n",
      "https://www.nytimes.com/2019/01/31/arts/dance/pam-tanowitz-bard-choreographer-in-residence.html\n",
      "https://www.nytimes.com/2019/03/27/arts/dance/victoria-review.html\n",
      "https://www.nytimes.com/2019/03/06/arts/dance/okwui-okpokwasili-adakus-revolt.html\n",
      "https://www.nytimes.com/2019/02/15/arts/dance/giselle-akram-khan-tamara-rojo-chicago.html\n",
      "https://www.nytimes.com/2019/01/17/arts/dance/taylor-stanley-apollo.html\n",
      "https://www.nytimes.com/2019/02/27/arts/dance/calvin-royal-merce-cunningham-speaking-in-dance.html\n",
      "https://www.nytimes.com/2019/02/19/arts/dance/sleeping-beauty-indiana-woodward-anthony-huxley.html\n",
      "https://www.nytimes.com/2019/01/14/arts/dance/sergei-polunin-putin-trump-paris-opera-ballet.html\n",
      "-------------------------------------------------------------------------------------------\n",
      "13\n",
      "https://www.nytimes.com/2019/02/21/arts/dance/sara-mearns-prodigal-son-speaking-in-dance.html\n",
      "https://www.nytimes.com/2019/01/29/arts/dance/jerome-robbins-review-new-york-public-library.html\n",
      "https://www.nytimes.com/2019/02/01/arts/dance/justin-peck-principia-review.html\n",
      "https://www.nytimes.com/2019/01/07/arts/dance/review-caleb-teicher-conrad-tao-more-forever.html\n",
      "https://www.nytimes.com/2019/02/13/arts/dance/speaking-in-dance-choir-boy.html\n",
      "https://www.nytimes.com/2019/02/26/arts/dance/balanchine-liebeslieder-walzer.html\n",
      "https://www.nytimes.com/2019/04/16/world/africa/sudan-protests.html\n",
      "https://www.nytimes.com/2019/01/04/arts/dance/miguel-gutierrez-this-bridge-chocolate-factory.html\n",
      "https://www.nytimes.com/2019/01/30/arts/dance/urban-bush-women-speaking-in-dance.html\n",
      "https://www.nytimes.com/2019/01/15/arts/dance/balanchine-apollo-new-york-city-ballet.html\n"
     ]
    }
   ],
   "source": [
    "f=open('nyturldance','w')\n",
    "Articles=get_articles(\"dance\")\n",
    "for i in range(len(Articles)):\n",
    "    f.write(Articles[i])"
   ]
  },
  {
   "cell_type": "code",
   "execution_count": 98,
   "metadata": {},
   "outputs": [],
   "source": []
  },
  {
   "cell_type": "code",
   "execution_count": 99,
   "metadata": {},
   "outputs": [
    {
     "data": {
      "text/plain": [
       "100"
      ]
     },
     "execution_count": 99,
     "metadata": {},
     "output_type": "execute_result"
    }
   ],
   "source": []
  },
  {
   "cell_type": "code",
   "execution_count": null,
   "metadata": {},
   "outputs": [],
   "source": []
  },
  {
   "cell_type": "code",
   "execution_count": null,
   "metadata": {},
   "outputs": [],
   "source": []
  },
  {
   "cell_type": "code",
   "execution_count": null,
   "metadata": {},
   "outputs": [],
   "source": []
  },
  {
   "cell_type": "code",
   "execution_count": null,
   "metadata": {},
   "outputs": [],
   "source": []
  },
  {
   "cell_type": "code",
   "execution_count": null,
   "metadata": {},
   "outputs": [],
   "source": [
    "\n"
   ]
  },
  {
   "cell_type": "code",
   "execution_count": null,
   "metadata": {},
   "outputs": [],
   "source": []
  },
  {
   "cell_type": "code",
   "execution_count": null,
   "metadata": {},
   "outputs": [],
   "source": []
  },
  {
   "cell_type": "code",
   "execution_count": null,
   "metadata": {},
   "outputs": [],
   "source": []
  },
  {
   "cell_type": "code",
   "execution_count": null,
   "metadata": {},
   "outputs": [],
   "source": []
  },
  {
   "cell_type": "code",
   "execution_count": null,
   "metadata": {
    "scrolled": false
   },
   "outputs": [],
   "source": []
  },
  {
   "cell_type": "code",
   "execution_count": null,
   "metadata": {},
   "outputs": [],
   "source": []
  },
  {
   "cell_type": "code",
   "execution_count": null,
   "metadata": {},
   "outputs": [],
   "source": []
  },
  {
   "cell_type": "code",
   "execution_count": null,
   "metadata": {},
   "outputs": [],
   "source": []
  }
 ],
 "metadata": {
  "kernelspec": {
   "display_name": "Python 3",
   "language": "python",
   "name": "python3"
  },
  "language_info": {
   "codemirror_mode": {
    "name": "ipython",
    "version": 3
   },
   "file_extension": ".py",
   "mimetype": "text/x-python",
   "name": "python",
   "nbconvert_exporter": "python",
   "pygments_lexer": "ipython3",
   "version": "3.5.2"
  }
 },
 "nbformat": 4,
 "nbformat_minor": 2
}
