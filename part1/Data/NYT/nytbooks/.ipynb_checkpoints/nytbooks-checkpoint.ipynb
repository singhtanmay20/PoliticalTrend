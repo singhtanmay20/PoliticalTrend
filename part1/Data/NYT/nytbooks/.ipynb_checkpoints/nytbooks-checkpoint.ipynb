{
 "cells": [
  {
   "cell_type": "code",
   "execution_count": 1,
   "metadata": {},
   "outputs": [],
   "source": [
    "from nytimesarticle import articleAPI\n",
    "api = articleAPI('MqGpINkbKmy15GOA36p7DYm09JTXSAaO ')\n",
    "import json\n",
    "import urllib.request\n",
    "from bs4 import BeautifulSoup\n",
    "all_articles = []"
   ]
  },
  {
   "cell_type": "code",
   "execution_count": 2,
   "metadata": {},
   "outputs": [],
   "source": [
    "def get_articles(query):\n",
    "    j=1\n",
    "    for i in range(0,14): \n",
    "        articles = api.search(q = query, begin_date=20190101,page=i)\n",
    "        print(\"-------------------------------------------------------------------------------------------\")\n",
    "        print(i)\n",
    "        if(\"response\" in articles):\n",
    "            \n",
    "            for items in articles[\"response\"][\"docs\"]:\n",
    "                f=open('nytbook'+str(j)+\".txt\",'w')\n",
    "                article_url=items[\"web_url\"]\n",
    "                soup = BeautifulSoup(urllib.request.urlopen(article_url), 'html.parser')\n",
    "                soup.prettify()\n",
    "                print(article_url)\n",
    "                # retrieve all of the paragraph tags\n",
    "                paragraphs=soup.find('article').find_all('p')\n",
    "                for paragraph in paragraphs:\n",
    "                    f.write(paragraph.text)\n",
    "                j+=1\n",
    "                \n",
    "                all_articles.append(article_url)\n",
    "            \n",
    "    return(all_articles)\n"
   ]
  },
  {
   "cell_type": "code",
   "execution_count": 3,
   "metadata": {
    "scrolled": false
   },
   "outputs": [
    {
     "name": "stdout",
     "output_type": "stream",
     "text": [
      "-------------------------------------------------------------------------------------------\n",
      "0\n",
      "https://www.nytimes.com/2019/04/05/reader-center/tyler-kepner-baseball-book.html\n",
      "https://www.nytimes.com/2019/04/18/books/review/by-the-book-abby-wambach.html\n",
      "https://www.nytimes.com/2019/04/09/books/man-booker-international-prize-shortlist.html\n",
      "https://www.nytimes.com/2019/04/06/us/politics/cory-booker-2020-baby-bonds.html\n",
      "https://www.nytimes.com/2019/02/25/opinion/letters/green-book-history-lesson.html\n",
      "https://www.nytimes.com/2019/02/08/learning/book-covers.html\n",
      "https://www.nytimes.com/2019/03/18/opinion/cory-booker-2020.html\n",
      "https://www.nytimes.com/2019/04/11/books/review/by-the-book-julia-alvarez.html\n",
      "https://www.nytimes.com/2019/04/13/us/politics/cory-booker-newark.html\n",
      "https://www.nytimes.com/2019/02/06/books/cover-stories.html\n",
      "-------------------------------------------------------------------------------------------\n",
      "1\n",
      "https://www.nytimes.com/2019/04/18/business/download-mueller-report-buy.html\n",
      "https://www.nytimes.com/2019/03/28/books/review/by-the-book-richard-powers.html\n",
      "https://www.nytimes.com/2019/01/25/opinion/green-book-black-travel.html\n",
      "https://www.nytimes.com/aponline/2019/04/15/us/ap-us-books-steve-martin.html\n",
      "https://www.nytimes.com/2019/03/21/books/review/laila-lalami-by-the-book.html\n",
      "https://www.nytimes.com/2019/03/07/arts/design/antiquarian-book-fair-park-avenue-armory.html\n",
      "https://www.nytimes.com/aponline/2019/04/18/arts/ap-us-books-mueller-report.html\n",
      "https://www.nytimes.com/2019/04/07/us/politics/cory-booker-2020-fundraising.html\n",
      "https://www.nytimes.com/aponline/2019/04/13/us/ap-us-election-2020-cory-booker.html\n",
      "https://www.nytimes.com/aponline/2019/04/09/world/europe/ap-eu-britain-man-booker-international-prize.html\n",
      "-------------------------------------------------------------------------------------------\n",
      "2\n",
      "https://www.nytimes.com/2019/03/05/briefing/roger-stone-book-gag-order.html\n",
      "https://www.nytimes.com/2019/03/07/books/review/by-the-book-donna-leon.html\n",
      "https://www.nytimes.com/aponline/2019/04/18/us/politics/ap-us-election-2020-cory-booker-south-carolina.html\n",
      "https://www.nytimes.com/2019/01/11/style/book-candles.html\n",
      "https://www.nytimes.com/2019/01/29/dining/zaitoun-talk-yasmin-khan.html\n",
      "https://www.nytimes.com/2019/02/21/books/review/isaac-mizrahi-by-the-book.html\n",
      "https://www.nytimes.com/aponline/2019/04/12/us/ap-us-obit-the-pacific-marine.html\n",
      "https://www.nytimes.com/aponline/2019/04/17/us/politics/ap-us-election-2020-missed-votes.html\n",
      "https://www.nytimes.com/reuters/2019/04/13/us/politics/13reuters-usa-election-booker.html\n",
      "https://www.nytimes.com/2019/03/12/arts/second-coming-jesus-comic-book.html\n",
      "-------------------------------------------------------------------------------------------\n",
      "3\n",
      "https://www.nytimes.com/2019/01/23/movies/review-the-image-book.html\n",
      "https://www.nytimes.com/2019/03/14/books/review/by-the-book-laurie-halse-anderson.html\n",
      "https://www.nytimes.com/2019/02/07/books/review/maria-popova-by-the-book.html\n",
      "https://www.nytimes.com/aponline/2019/04/11/sports/ncaafootball/ap-fbc-notre-dame-book-time.html\n",
      "https://www.nytimes.com/aponline/2019/04/12/us/ap-us-books-vidal-assange.html\n",
      "https://www.nytimes.com/aponline/2019/04/11/arts/ap-us-books-nikki-haley.html\n",
      "https://www.nytimes.com/2019/01/31/books/review/marlon-james-by-the-book.html\n",
      "https://www.nytimes.com/2019/03/28/books/review/by-the-book-henry-louis-gates-jr.html\n",
      "https://www.nytimes.com/2019/01/24/books/review/elizabeth-mccracken-by-the-book.html\n",
      "https://www.nytimes.com/video/us/politics/100000006330693/cory-booker-2020-election-video.html\n"
     ]
    },
    {
     "ename": "AttributeError",
     "evalue": "'NoneType' object has no attribute 'find_all'",
     "output_type": "error",
     "traceback": [
      "\u001b[0;31m---------------------------------------------------------------------------\u001b[0m",
      "\u001b[0;31mAttributeError\u001b[0m                            Traceback (most recent call last)",
      "\u001b[0;32m<ipython-input-3-3548e03bc01c>\u001b[0m in \u001b[0;36m<module>\u001b[0;34m\u001b[0m\n\u001b[1;32m      1\u001b[0m \u001b[0mf\u001b[0m\u001b[0;34m=\u001b[0m\u001b[0mopen\u001b[0m\u001b[0;34m(\u001b[0m\u001b[0;34m'nyturlbook'\u001b[0m\u001b[0;34m,\u001b[0m\u001b[0;34m'w'\u001b[0m\u001b[0;34m)\u001b[0m\u001b[0;34m\u001b[0m\u001b[0m\n\u001b[0;32m----> 2\u001b[0;31m \u001b[0mArticles\u001b[0m\u001b[0;34m=\u001b[0m\u001b[0mget_articles\u001b[0m\u001b[0;34m(\u001b[0m\u001b[0;34m\"book\"\u001b[0m\u001b[0;34m)\u001b[0m\u001b[0;34m\u001b[0m\u001b[0m\n\u001b[0m\u001b[1;32m      3\u001b[0m \u001b[0;32mfor\u001b[0m \u001b[0mi\u001b[0m \u001b[0;32min\u001b[0m \u001b[0mrange\u001b[0m\u001b[0;34m(\u001b[0m\u001b[0mlen\u001b[0m\u001b[0;34m(\u001b[0m\u001b[0mArticles\u001b[0m\u001b[0;34m)\u001b[0m\u001b[0;34m)\u001b[0m\u001b[0;34m:\u001b[0m\u001b[0;34m\u001b[0m\u001b[0m\n\u001b[1;32m      4\u001b[0m     \u001b[0mf\u001b[0m\u001b[0;34m.\u001b[0m\u001b[0mwrite\u001b[0m\u001b[0;34m(\u001b[0m\u001b[0mArticles\u001b[0m\u001b[0;34m[\u001b[0m\u001b[0mi\u001b[0m\u001b[0;34m]\u001b[0m\u001b[0;34m)\u001b[0m\u001b[0;34m\u001b[0m\u001b[0m\n",
      "\u001b[0;32m<ipython-input-2-94f4e1de63d5>\u001b[0m in \u001b[0;36mget_articles\u001b[0;34m(query)\u001b[0m\n\u001b[1;32m     14\u001b[0m                 \u001b[0mprint\u001b[0m\u001b[0;34m(\u001b[0m\u001b[0marticle_url\u001b[0m\u001b[0;34m)\u001b[0m\u001b[0;34m\u001b[0m\u001b[0m\n\u001b[1;32m     15\u001b[0m                 \u001b[0;31m# retrieve all of the paragraph tags\u001b[0m\u001b[0;34m\u001b[0m\u001b[0;34m\u001b[0m\u001b[0m\n\u001b[0;32m---> 16\u001b[0;31m                 \u001b[0mparagraphs\u001b[0m\u001b[0;34m=\u001b[0m\u001b[0msoup\u001b[0m\u001b[0;34m.\u001b[0m\u001b[0mfind\u001b[0m\u001b[0;34m(\u001b[0m\u001b[0;34m'article'\u001b[0m\u001b[0;34m)\u001b[0m\u001b[0;34m.\u001b[0m\u001b[0mfind_all\u001b[0m\u001b[0;34m(\u001b[0m\u001b[0;34m'p'\u001b[0m\u001b[0;34m)\u001b[0m\u001b[0;34m\u001b[0m\u001b[0m\n\u001b[0m\u001b[1;32m     17\u001b[0m                 \u001b[0;32mfor\u001b[0m \u001b[0mparagraph\u001b[0m \u001b[0;32min\u001b[0m \u001b[0mparagraphs\u001b[0m\u001b[0;34m:\u001b[0m\u001b[0;34m\u001b[0m\u001b[0m\n\u001b[1;32m     18\u001b[0m                     \u001b[0mf\u001b[0m\u001b[0;34m.\u001b[0m\u001b[0mwrite\u001b[0m\u001b[0;34m(\u001b[0m\u001b[0mparagraph\u001b[0m\u001b[0;34m.\u001b[0m\u001b[0mtext\u001b[0m\u001b[0;34m)\u001b[0m\u001b[0;34m\u001b[0m\u001b[0m\n",
      "\u001b[0;31mAttributeError\u001b[0m: 'NoneType' object has no attribute 'find_all'"
     ]
    }
   ],
   "source": [
    "f=open('nyturlbook','w')\n",
    "Articles=get_articles(\"book\")\n",
    "for i in range(len(Articles)):\n",
    "    f.write(Articles[i])"
   ]
  },
  {
   "cell_type": "code",
   "execution_count": 98,
   "metadata": {},
   "outputs": [],
   "source": []
  },
  {
   "cell_type": "code",
   "execution_count": 99,
   "metadata": {},
   "outputs": [
    {
     "data": {
      "text/plain": [
       "100"
      ]
     },
     "execution_count": 99,
     "metadata": {},
     "output_type": "execute_result"
    }
   ],
   "source": []
  },
  {
   "cell_type": "code",
   "execution_count": null,
   "metadata": {},
   "outputs": [],
   "source": []
  },
  {
   "cell_type": "code",
   "execution_count": null,
   "metadata": {},
   "outputs": [],
   "source": []
  },
  {
   "cell_type": "code",
   "execution_count": null,
   "metadata": {},
   "outputs": [],
   "source": []
  },
  {
   "cell_type": "code",
   "execution_count": null,
   "metadata": {},
   "outputs": [],
   "source": []
  },
  {
   "cell_type": "code",
   "execution_count": null,
   "metadata": {},
   "outputs": [],
   "source": [
    "\n"
   ]
  },
  {
   "cell_type": "code",
   "execution_count": null,
   "metadata": {},
   "outputs": [],
   "source": []
  },
  {
   "cell_type": "code",
   "execution_count": null,
   "metadata": {},
   "outputs": [],
   "source": []
  },
  {
   "cell_type": "code",
   "execution_count": null,
   "metadata": {},
   "outputs": [],
   "source": []
  },
  {
   "cell_type": "code",
   "execution_count": null,
   "metadata": {},
   "outputs": [],
   "source": []
  },
  {
   "cell_type": "code",
   "execution_count": null,
   "metadata": {
    "scrolled": false
   },
   "outputs": [],
   "source": []
  },
  {
   "cell_type": "code",
   "execution_count": null,
   "metadata": {},
   "outputs": [],
   "source": []
  },
  {
   "cell_type": "code",
   "execution_count": null,
   "metadata": {},
   "outputs": [],
   "source": []
  },
  {
   "cell_type": "code",
   "execution_count": null,
   "metadata": {},
   "outputs": [],
   "source": []
  }
 ],
 "metadata": {
  "kernelspec": {
   "display_name": "Python 3",
   "language": "python",
   "name": "python3"
  },
  "language_info": {
   "codemirror_mode": {
    "name": "ipython",
    "version": 3
   },
   "file_extension": ".py",
   "mimetype": "text/x-python",
   "name": "python",
   "nbconvert_exporter": "python",
   "pygments_lexer": "ipython3",
   "version": "3.5.2"
  }
 },
 "nbformat": 4,
 "nbformat_minor": 2
}
