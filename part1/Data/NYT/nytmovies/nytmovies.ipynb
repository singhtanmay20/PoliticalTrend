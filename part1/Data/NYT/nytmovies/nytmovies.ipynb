{
 "cells": [
  {
   "cell_type": "code",
   "execution_count": 3,
   "metadata": {},
   "outputs": [],
   "source": [
    "from nytimesarticle import articleAPI\n",
    "api = articleAPI('MqGpINkbKmy15GOA36p7DYm09JTXSAaO ')\n",
    "import json\n",
    "import urllib.request\n",
    "from bs4 import BeautifulSoup\n",
    "all_articles = []"
   ]
  },
  {
   "cell_type": "code",
   "execution_count": 16,
   "metadata": {},
   "outputs": [],
   "source": [
    "def get_articles(query):\n",
    "    j=61\n",
    "    for i in range(10,16): \n",
    "        articles = api.search(q = query, begin_date=20190101,page=i)\n",
    "        print(\"-------------------------------------------------------------------------------------------\")\n",
    "        print(i)\n",
    "        if(\"response\" in articles):\n",
    "            \n",
    "            for items in articles[\"response\"][\"docs\"]:\n",
    "                f=open('nytmovie'+str(j)+\".txt\",'w')\n",
    "                article_url=items[\"web_url\"]\n",
    "                soup = BeautifulSoup(urllib.request.urlopen(article_url), 'html.parser')\n",
    "                soup.prettify()\n",
    "                print(article_url)\n",
    "                # retrieve all of the paragraph tags\n",
    "                paragraphs=soup.find('article').find_all('p')\n",
    "                for paragraph in paragraphs:\n",
    "                    f.write(paragraph.text)\n",
    "                j+=1\n",
    "                \n",
    "                all_articles.append(article_url)\n",
    "            \n",
    "    return(all_articles)\n"
   ]
  },
  {
   "cell_type": "code",
   "execution_count": null,
   "metadata": {
    "scrolled": false
   },
   "outputs": [
    {
     "name": "stdout",
     "output_type": "stream",
     "text": [
      "-------------------------------------------------------------------------------------------\n",
      "10\n",
      "https://www.nytimes.com/2019/03/25/arts/music/us-jordan-peele-i-got-5-on-it-luniz.html\n",
      "https://www.nytimes.com/2019/03/15/movies/sxsw-film-festival.html\n",
      "https://www.nytimes.com/2019/02/24/movies/total-dhamaal-review.html\n",
      "https://www.nytimes.com/2019/03/06/movies/room-at-the-top-film-forum.html\n",
      "https://www.nytimes.com/2019/02/01/movies/how-i-felt-when-i-saw-that-girl-review.html\n",
      "https://www.nytimes.com/2019/03/28/movies/the-last-review.html\n",
      "https://www.nytimes.com/2019/02/28/movies/quick-millions-spencer-tracy-moma.html\n",
      "https://www.nytimes.com/2019/04/10/movies/little-review.html\n",
      "https://www.nytimes.com/2019/01/24/movies/review-tito-and-the-birds.html\n",
      "https://www.nytimes.com/2019/01/07/movies/golden-globes-2019-a-diverse-slate-of-winners.html\n",
      "-------------------------------------------------------------------------------------------\n",
      "11\n",
      "https://www.nytimes.com/2019/03/20/obituaries/andre-williams-dead.html\n",
      "https://www.nytimes.com/2019/04/04/movies/the-public-review.html\n",
      "https://www.nytimes.com/2019/03/21/arts/television/what-we-do-in-the-shadows-jemaine-clement-taika-waititi-interview.html\n",
      "https://www.nytimes.com/aponline/2019/04/12/us/ap-us-streaming-services-dont-break-the-bank-.html\n",
      "https://www.nytimes.com/2019/03/07/arts/television/whats-on-tv-thursday-for-the-people-and-wonder-woman.html\n",
      "https://www.nytimes.com/2019/03/27/learning/what-show-do-you-wish-your-school-would-stage.html\n",
      "https://www.nytimes.com/2019/03/26/obituaries/larry-cohen-dead.html\n",
      "https://www.nytimes.com/2019/01/19/arts/television/whats-on-tv-saturday-brexit-fahrenheit-11-9.html\n",
      "https://www.nytimes.com/2019/01/03/movies/john-krasinski-a-quiet-place.html\n"
     ]
    }
   ],
   "source": [
    "f=open('nyturlmovies','w')\n",
    "Articles=get_articles(\"movie\")\n",
    "for i in range(len(Articles)):\n",
    "    f.write(Articles[i])"
   ]
  },
  {
   "cell_type": "code",
   "execution_count": 98,
   "metadata": {},
   "outputs": [],
   "source": []
  },
  {
   "cell_type": "code",
   "execution_count": 99,
   "metadata": {},
   "outputs": [
    {
     "data": {
      "text/plain": [
       "100"
      ]
     },
     "execution_count": 99,
     "metadata": {},
     "output_type": "execute_result"
    }
   ],
   "source": []
  },
  {
   "cell_type": "code",
   "execution_count": null,
   "metadata": {},
   "outputs": [],
   "source": []
  },
  {
   "cell_type": "code",
   "execution_count": null,
   "metadata": {},
   "outputs": [],
   "source": []
  },
  {
   "cell_type": "code",
   "execution_count": null,
   "metadata": {},
   "outputs": [],
   "source": []
  },
  {
   "cell_type": "code",
   "execution_count": null,
   "metadata": {},
   "outputs": [],
   "source": []
  },
  {
   "cell_type": "code",
   "execution_count": null,
   "metadata": {},
   "outputs": [],
   "source": [
    "\n"
   ]
  },
  {
   "cell_type": "code",
   "execution_count": null,
   "metadata": {},
   "outputs": [],
   "source": []
  },
  {
   "cell_type": "code",
   "execution_count": null,
   "metadata": {},
   "outputs": [],
   "source": []
  },
  {
   "cell_type": "code",
   "execution_count": null,
   "metadata": {},
   "outputs": [],
   "source": []
  },
  {
   "cell_type": "code",
   "execution_count": null,
   "metadata": {},
   "outputs": [],
   "source": []
  },
  {
   "cell_type": "code",
   "execution_count": null,
   "metadata": {
    "scrolled": false
   },
   "outputs": [],
   "source": []
  },
  {
   "cell_type": "code",
   "execution_count": null,
   "metadata": {},
   "outputs": [],
   "source": []
  },
  {
   "cell_type": "code",
   "execution_count": null,
   "metadata": {},
   "outputs": [],
   "source": []
  },
  {
   "cell_type": "code",
   "execution_count": null,
   "metadata": {},
   "outputs": [],
   "source": []
  }
 ],
 "metadata": {
  "kernelspec": {
   "display_name": "Python 3",
   "language": "python",
   "name": "python3"
  },
  "language_info": {
   "codemirror_mode": {
    "name": "ipython",
    "version": 3
   },
   "file_extension": ".py",
   "mimetype": "text/x-python",
   "name": "python",
   "nbconvert_exporter": "python",
   "pygments_lexer": "ipython3",
   "version": "3.5.2"
  }
 },
 "nbformat": 4,
 "nbformat_minor": 2
}
