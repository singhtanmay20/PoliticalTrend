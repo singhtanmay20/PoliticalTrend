{
 "cells": [
  {
   "cell_type": "code",
   "execution_count": 1,
   "metadata": {},
   "outputs": [],
   "source": [
    "from nytimesarticle import articleAPI\n",
    "api = articleAPI('MqGpINkbKmy15GOA36p7DYm09JTXSAaO ')\n",
    "import json\n",
    "import urllib.request\n",
    "from bs4 import BeautifulSoup\n",
    "all_articles = []"
   ]
  },
  {
   "cell_type": "code",
   "execution_count": 2,
   "metadata": {},
   "outputs": [],
   "source": [
    "def get_articles(query):\n",
    "    j=1\n",
    "    for i in range(0,11): \n",
    "        articles = api.search(q = query, begin_date=20190101,page=i)\n",
    "        print(\"-------------------------------------------------------------------------------------------\")\n",
    "        print(i)\n",
    "        if(\"response\" in articles):\n",
    "            \n",
    "            for items in articles[\"response\"][\"docs\"]:\n",
    "                f=open('nytmusic'+str(j)+\".txt\",'w')\n",
    "                article_url=items[\"web_url\"]\n",
    "                soup = BeautifulSoup(urllib.request.urlopen(article_url), 'html.parser')\n",
    "                soup.prettify()\n",
    "                print(article_url)\n",
    "                # retrieve all of the paragraph tags\n",
    "                paragraphs=soup.find('article').find_all('p')\n",
    "                for paragraph in paragraphs:\n",
    "                    f.write(paragraph.text)\n",
    "                j+=1\n",
    "                \n",
    "                all_articles.append(article_url)\n",
    "            \n",
    "    return(all_articles)\n"
   ]
  },
  {
   "cell_type": "code",
   "execution_count": null,
   "metadata": {
    "scrolled": false
   },
   "outputs": [
    {
     "name": "stdout",
     "output_type": "stream",
     "text": [
      "-------------------------------------------------------------------------------------------\n",
      "0\n",
      "https://www.nytimes.com/2019/02/11/arts/music/review-blue-heron-music-before-1800.html\n",
      "https://www.nytimes.com/2019/03/28/arts/music/hudson-yards-the-shed-arts-center.html\n",
      "https://www.nytimes.com/2019/03/12/arts/metropolitan-museum-reopens-music-gallery.html\n",
      "https://www.nytimes.com/interactive/2019/obituaries/notable-deaths-music.html\n",
      "https://www.nytimes.com/2019/04/11/arts/music/kendrick-lamar-pulitzer-prize-music.html\n",
      "https://www.nytimes.com/2019/04/13/arts/music/classical-music-youtube.html\n",
      "https://www.nytimes.com/2019/02/10/arts/music/grammy-awards.html\n",
      "https://www.nytimes.com/2019/01/11/arts/music/rising-baritone-the-week-in-classical-music.html\n",
      "https://www.nytimes.com/2019/01/04/arts/music/roulette-brooklyn.html\n",
      "https://www.nytimes.com/2019/02/28/arts/music/nate-wooley-review.html\n",
      "-------------------------------------------------------------------------------------------\n",
      "1\n",
      "https://www.nytimes.com/2019/01/04/arts/music/princeton-meditation-music.html\n",
      "https://www.nytimes.com/2019/04/05/arts/music/classical-music-youtube.html\n",
      "https://www.nytimes.com/2019/04/18/arts/music/nyc-this-weekend-classical-music.html\n",
      "https://www.nytimes.com/2019/03/15/travel/afropunk-huichica-and-more-8-music-festivals-to-hit-this-year.html\n",
      "https://www.nytimes.com/2019/04/14/nyregion/terraza7-nyc.html\n",
      "https://www.nytimes.com/2019/03/29/arts/music/a-brunnhilde-is-born-the-week-in-classical-music.html\n",
      "https://www.nytimes.com/2019/03/23/arts/music/classical-music-opera-youtube-netrebko.html\n",
      "https://www.nytimes.com/2019/02/08/arts/music/ariana-grande-cardi-b-videos.html\n",
      "https://www.nytimes.com/2019/03/19/obituaries/jh-kwabena-nketia-dead.html\n",
      "https://www.nytimes.com/2019/03/01/arts/music/classical-music-spotify-youtube.html\n",
      "-------------------------------------------------------------------------------------------\n",
      "2\n",
      "https://www.nytimes.com/2019/04/04/arts/music/nyc-this-weekend-classical-music.html\n",
      "https://www.nytimes.com/2019/04/11/arts/music/nyc-this-weekend-classical-music.html\n",
      "https://www.nytimes.com/2019/03/08/arts/music/classical-music-youtube.html\n",
      "https://www.nytimes.com/2019/01/21/opinion/nashville-music.html\n",
      "https://www.nytimes.com/2019/03/28/arts/music/nyc-this-weekend-classical-music.html\n",
      "https://www.nytimes.com/2019/03/07/arts/music/migrations-the-making-of-america-immigration.html\n",
      "https://www.nytimes.com/2019/02/15/arts/music/a-troubling-concert-the-week-in-classical-music.html\n",
      "https://www.nytimes.com/2019/02/22/arts/music/classical-music-youtube.html\n",
      "https://www.nytimes.com/2019/04/03/arts/music/public-records-gowanus-music-scene.html\n",
      "https://www.nytimes.com/2019/03/21/arts/music/nyc-this-weekend-classical-music.html\n",
      "-------------------------------------------------------------------------------------------\n",
      "3\n",
      "https://www.nytimes.com/2019/02/01/arts/music/a-divas-return-the-week-in-classical-music.html\n",
      "https://www.nytimes.com/2019/01/18/arts/music/popcast-new-music-2019.html\n",
      "https://www.nytimes.com/2019/02/08/arts/music/classical-week-youtube.html\n",
      "https://www.nytimes.com/2019/02/07/opinion/what-these-grammy-songs-tell-us-about-the-loudness-wars.html\n",
      "https://www.nytimes.com/2019/03/15/arts/music/classical-music-youtube.html\n",
      "https://www.nytimes.com/2019/04/04/arts/music/nyc-this-weekend-pop-rock-jazz.html\n",
      "https://www.nytimes.com/2019/03/21/arts/music/nyc-this-weekend-pop-rock-jazz.html\n",
      "https://www.nytimes.com/2019/04/11/arts/music/george-crumb-90th-birthday.html\n",
      "https://www.nytimes.com/2019/04/11/arts/music/nyc-this-weekend-pop-rock-jazz.html\n",
      "https://www.nytimes.com/2019/03/13/theater/hugh-jackman-the-music-man.html\n",
      "-------------------------------------------------------------------------------------------\n",
      "4\n",
      "https://www.nytimes.com/2019/01/22/movies/the-5-browns-digging-through-the-darkness-review.html\n",
      "https://www.nytimes.com/2019/01/29/well/mind/fighting-the-stigma-of-mental-illness-through-music.html\n",
      "https://www.nytimes.com/2019/03/29/arts/music/kate-soper-new-york-festival-of-song-review.html\n",
      "https://www.nytimes.com/2019/03/07/arts/music/nyc-this-weekend-classical-music.html\n",
      "https://www.nytimes.com/2019/03/14/arts/music/nyc-this-weekend-pop-rock-jazz.html\n",
      "https://www.nytimes.com/2019/02/28/arts/music/nyc-this-weekend-classical-music.html\n",
      "https://www.nytimes.com/2019/03/14/arts/music/nyc-this-weekend-classical-music.html\n",
      "https://www.nytimes.com/2019/04/11/arts/music/music-exhibitions-leonard-cohen-instruments-punk.html\n",
      "https://www.nytimes.com/2019/03/07/arts/music/nyc-this-weekend-pop-rock-jazz.html\n",
      "https://www.nytimes.com/2019/01/25/arts/music/kilted-quartet-the-week-in-classical-music.html\n",
      "-------------------------------------------------------------------------------------------\n",
      "5\n",
      "https://www.nytimes.com/2019/01/18/arts/music/pelleas-returns-the-week-in-classical-music.html\n",
      "https://www.nytimes.com/2019/02/14/arts/music/nyc-this-weekend-classical-music.html\n",
      "https://www.nytimes.com/2019/03/28/arts/music/nyc-this-weekend-pop-rock-jazz.html\n",
      "https://www.nytimes.com/2019/02/21/arts/music/nyc-this-weekend-pop-rock-jazz.html\n",
      "https://www.nytimes.com/2019/04/05/obituaries/kim-english-dead.html\n",
      "https://www.nytimes.com/2019/03/19/arts/music/tamaryn-dreaming-the-dark.html\n",
      "https://www.nytimes.com/2019/01/24/arts/music/desolation-center-punk-desert-concert-film.html\n",
      "https://www.nytimes.com/2019/04/10/arts/music/t-bone-burnett-invisible-light.html\n",
      "https://www.nytimes.com/2019/04/05/arts/music/avicii-tim-bergling-new-music.html\n",
      "https://www.nytimes.com/2019/04/14/theater/charlie-rosen-broadway.html\n",
      "-------------------------------------------------------------------------------------------\n",
      "6\n",
      "https://www.nytimes.com/2019/02/14/arts/music/nyc-this-weekend-pop-rock-jazz.html\n",
      "https://www.nytimes.com/2019/01/24/arts/music/classical-music-in-nyc-this-week.html\n",
      "https://www.nytimes.com/2019/02/21/arts/music/nyc-this-weekend-classical-music.html\n",
      "https://www.nytimes.com/aponline/2019/04/16/us/ap-us-notre-dame-popular-culture.html\n",
      "https://www.nytimes.com/2019/02/28/arts/music/nyc-this-weekend-pop-rock-jazz.html\n",
      "https://www.nytimes.com/2019/01/04/arts/music/new-years-sounds-the-week-in-classical-music.html\n",
      "https://www.nytimes.com/2019/01/31/arts/music/classical-music-in-nyc-this-week.html\n",
      "https://www.nytimes.com/2019/02/07/arts/music/classical-music-in-nyc-this-week.html\n",
      "https://www.nytimes.com/2019/03/07/magazine/behind-the-cover-the-music-issue.html\n",
      "https://www.nytimes.com/2019/02/07/arts/music/pop-rock-and-jazz-in-nyc-this-week.html\n",
      "-------------------------------------------------------------------------------------------\n",
      "7\n",
      "https://www.nytimes.com/2019/01/17/arts/music/classical-music-in-nyc-this-week.html\n"
     ]
    }
   ],
   "source": [
    "f=open('nyturlmusics','w')\n",
    "Articles=get_articles(\"music\")\n",
    "for i in range(len(Articles)):\n",
    "    f.write(Articles[i])"
   ]
  },
  {
   "cell_type": "code",
   "execution_count": 98,
   "metadata": {},
   "outputs": [],
   "source": []
  },
  {
   "cell_type": "code",
   "execution_count": 99,
   "metadata": {},
   "outputs": [
    {
     "data": {
      "text/plain": [
       "100"
      ]
     },
     "execution_count": 99,
     "metadata": {},
     "output_type": "execute_result"
    }
   ],
   "source": []
  },
  {
   "cell_type": "code",
   "execution_count": null,
   "metadata": {},
   "outputs": [],
   "source": []
  },
  {
   "cell_type": "code",
   "execution_count": null,
   "metadata": {},
   "outputs": [],
   "source": []
  },
  {
   "cell_type": "code",
   "execution_count": null,
   "metadata": {},
   "outputs": [],
   "source": []
  },
  {
   "cell_type": "code",
   "execution_count": null,
   "metadata": {},
   "outputs": [],
   "source": []
  },
  {
   "cell_type": "code",
   "execution_count": null,
   "metadata": {},
   "outputs": [],
   "source": [
    "\n"
   ]
  },
  {
   "cell_type": "code",
   "execution_count": null,
   "metadata": {},
   "outputs": [],
   "source": []
  },
  {
   "cell_type": "code",
   "execution_count": null,
   "metadata": {},
   "outputs": [],
   "source": []
  },
  {
   "cell_type": "code",
   "execution_count": null,
   "metadata": {},
   "outputs": [],
   "source": []
  },
  {
   "cell_type": "code",
   "execution_count": null,
   "metadata": {},
   "outputs": [],
   "source": []
  },
  {
   "cell_type": "code",
   "execution_count": null,
   "metadata": {
    "scrolled": false
   },
   "outputs": [],
   "source": []
  },
  {
   "cell_type": "code",
   "execution_count": null,
   "metadata": {},
   "outputs": [],
   "source": []
  },
  {
   "cell_type": "code",
   "execution_count": null,
   "metadata": {},
   "outputs": [],
   "source": []
  },
  {
   "cell_type": "code",
   "execution_count": null,
   "metadata": {},
   "outputs": [],
   "source": []
  }
 ],
 "metadata": {
  "kernelspec": {
   "display_name": "Python 3",
   "language": "python",
   "name": "python3"
  },
  "language_info": {
   "codemirror_mode": {
    "name": "ipython",
    "version": 3
   },
   "file_extension": ".py",
   "mimetype": "text/x-python",
   "name": "python",
   "nbconvert_exporter": "python",
   "pygments_lexer": "ipython3",
   "version": "3.5.2"
  }
 },
 "nbformat": 4,
 "nbformat_minor": 2
}
