{
 "cells": [
  {
   "cell_type": "code",
   "execution_count": 11,
   "metadata": {},
   "outputs": [],
   "source": [
    "from nytimesarticle import articleAPI\n",
    "api = articleAPI('MqGpINkbKmy15GOA36p7DYm09JTXSAaO ')\n",
    "import json\n",
    "import urllib.request\n",
    "from bs4 import BeautifulSoup\n",
    "all_articles = []"
   ]
  },
  {
   "cell_type": "code",
   "execution_count": 24,
   "metadata": {},
   "outputs": [],
   "source": [
    "def get_articles(query):\n",
    "    j=100\n",
    "    for i in range(14,16): \n",
    "        articles = api.search(q = query, begin_date=20190101,page=i)\n",
    "        print(\"-------------------------------------------------------------------------------------------\")\n",
    "        print(i)\n",
    "        if(\"response\" in articles):\n",
    "            \n",
    "            for items in articles[\"response\"][\"docs\"]:\n",
    "                f=open('nytmusic'+str(j)+\".txt\",'w')\n",
    "                article_url=items[\"web_url\"]\n",
    "                soup = BeautifulSoup(urllib.request.urlopen(article_url), 'html.parser')\n",
    "                soup.prettify()\n",
    "                print(article_url)\n",
    "                # retrieve all of the paragraph tags\n",
    "                paragraphs=soup.find('article').find_all('p')\n",
    "                for paragraph in paragraphs:\n",
    "                    f.write(paragraph.text)\n",
    "                j+=1\n",
    "                \n",
    "                all_articles.append(article_url)\n",
    "            \n",
    "    return(all_articles)\n"
   ]
  },
  {
   "cell_type": "code",
   "execution_count": 25,
   "metadata": {
    "scrolled": false
   },
   "outputs": [
    {
     "name": "stdout",
     "output_type": "stream",
     "text": [
      "-------------------------------------------------------------------------------------------\n",
      "14\n",
      "https://www.nytimes.com/2019/01/29/obituaries/edwin-birdsong-dies.html\n",
      "https://www.nytimes.com/2019/02/21/arts/music/webster-hall-reopening.html\n",
      "https://www.nytimes.com/2019/01/06/business/media/sony-movies-television-ces-playstation.html\n",
      "https://www.nytimes.com/2019/02/10/style/grammys-red-carpet.html\n",
      "https://www.nytimes.com/2019/03/29/arts/music/beth-gibbons-portishead-polish-gorecki-3-symphony.html\n",
      "https://www.nytimes.com/2019/01/08/arts/music/review-huang-ruo-sonic-great-wall-national-sawdust.html\n",
      "https://www.nytimes.com/2019/03/01/arts/music/carnegie-hall-migrations-festival.html\n",
      "https://www.nytimes.com/2019/02/15/style/christian-tierney-music-photographer-dublin.html\n",
      "https://www.nytimes.com/2019/01/11/arts/anthony-braxton-composer.html\n",
      "https://www.nytimes.com/2019/01/16/movies/fyre-reviews.html\n",
      "-------------------------------------------------------------------------------------------\n",
      "15\n",
      "https://www.nytimes.com/2019/01/23/arts/music/joes-pub-artists-in-residence.html\n",
      "https://www.nytimes.com/2019/01/13/arts/music/mute-r-kelly.html\n",
      "https://www.nytimes.com/2019/01/22/arts/music/julia-wolfe-new-york-philharmonic-triangle-fire.html\n",
      "https://www.nytimes.com/2019/02/11/travel/northern-lights-tourism-in-sweden.html\n",
      "https://www.nytimes.com/2019/03/27/lens/tintype-portraits-musicians-appalachia.html\n",
      "https://www.nytimes.com/2019/01/15/arts/music/alicia-keys-grammy-awards-host.html\n",
      "https://www.nytimes.com/2019/02/05/arts/music/charles-busch-native-new-yorker-cabaret.html\n",
      "https://www.nytimes.com/2019/01/13/arts/music/missy-elliott-songwriters-hall-of-fame.html\n",
      "https://www.nytimes.com/2019/01/07/arts/music/prototype-festival-448-psychosis-prism-thistree.html\n",
      "https://www.nytimes.com/2019/02/12/arts/dance/recirquel-company-budapest-bam-non-solus.html\n"
     ]
    }
   ],
   "source": [
    "f=open('nyturlmusic','w')\n",
    "Articles=get_articles(\"music\")\n",
    "for i in range(len(Articles)):\n",
    "    f.write(Articles[i])"
   ]
  },
  {
   "cell_type": "code",
   "execution_count": 98,
   "metadata": {},
   "outputs": [],
   "source": []
  },
  {
   "cell_type": "code",
   "execution_count": 99,
   "metadata": {},
   "outputs": [
    {
     "data": {
      "text/plain": [
       "100"
      ]
     },
     "execution_count": 99,
     "metadata": {},
     "output_type": "execute_result"
    }
   ],
   "source": []
  },
  {
   "cell_type": "code",
   "execution_count": null,
   "metadata": {},
   "outputs": [],
   "source": []
  },
  {
   "cell_type": "code",
   "execution_count": null,
   "metadata": {},
   "outputs": [],
   "source": []
  },
  {
   "cell_type": "code",
   "execution_count": null,
   "metadata": {},
   "outputs": [],
   "source": []
  },
  {
   "cell_type": "code",
   "execution_count": null,
   "metadata": {},
   "outputs": [],
   "source": []
  },
  {
   "cell_type": "code",
   "execution_count": null,
   "metadata": {},
   "outputs": [],
   "source": [
    "\n"
   ]
  },
  {
   "cell_type": "code",
   "execution_count": null,
   "metadata": {},
   "outputs": [],
   "source": []
  },
  {
   "cell_type": "code",
   "execution_count": null,
   "metadata": {},
   "outputs": [],
   "source": []
  },
  {
   "cell_type": "code",
   "execution_count": null,
   "metadata": {},
   "outputs": [],
   "source": []
  },
  {
   "cell_type": "code",
   "execution_count": null,
   "metadata": {},
   "outputs": [],
   "source": []
  },
  {
   "cell_type": "code",
   "execution_count": null,
   "metadata": {
    "scrolled": false
   },
   "outputs": [],
   "source": []
  },
  {
   "cell_type": "code",
   "execution_count": null,
   "metadata": {},
   "outputs": [],
   "source": []
  },
  {
   "cell_type": "code",
   "execution_count": null,
   "metadata": {},
   "outputs": [],
   "source": []
  },
  {
   "cell_type": "code",
   "execution_count": null,
   "metadata": {},
   "outputs": [],
   "source": []
  }
 ],
 "metadata": {
  "kernelspec": {
   "display_name": "Python 3",
   "language": "python",
   "name": "python3"
  },
  "language_info": {
   "codemirror_mode": {
    "name": "ipython",
    "version": 3
   },
   "file_extension": ".py",
   "mimetype": "text/x-python",
   "name": "python",
   "nbconvert_exporter": "python",
   "pygments_lexer": "ipython3",
   "version": "3.5.2"
  }
 },
 "nbformat": 4,
 "nbformat_minor": 2
}
