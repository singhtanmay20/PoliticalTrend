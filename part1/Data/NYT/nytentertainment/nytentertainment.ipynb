{
 "cells": [
  {
   "cell_type": "code",
   "execution_count": 4,
   "metadata": {},
   "outputs": [],
   "source": [
    "from nytimesarticle import articleAPI\n",
    "api = articleAPI('MqGpINkbKmy15GOA36p7DYm09JTXSAaO ')\n",
    "import json\n",
    "import urllib.request\n",
    "from bs4 import BeautifulSoup\n",
    "all_articles = []"
   ]
  },
  {
   "cell_type": "code",
   "execution_count": 7,
   "metadata": {},
   "outputs": [],
   "source": [
    "def get_articles(query):\n",
    "    j=4\n",
    "    for i in range(1,11): \n",
    "        articles = api.search(q = query, begin_date=20190101,page=i)\n",
    "        print(\"-------------------------------------------------------------------------------------------\")\n",
    "        print(i)\n",
    "        if(\"response\" in articles):\n",
    "            \n",
    "            for items in articles[\"response\"][\"docs\"]:\n",
    "                f=open('nytentertainment'+str(j)+\".txt\",'w')\n",
    "                article_url=items[\"web_url\"]\n",
    "                soup = BeautifulSoup(urllib.request.urlopen(article_url), 'html.parser')\n",
    "                soup.prettify()\n",
    "                print(article_url)\n",
    "                # retrieve all of the paragraph tags\n",
    "                paragraphs=soup.find('article').find_all('p')\n",
    "                for paragraph in paragraphs:\n",
    "                    f.write(paragraph.text)\n",
    "                j+=1\n",
    "                \n",
    "                all_articles.append(article_url)\n",
    "            \n",
    "    return(all_articles)\n"
   ]
  },
  {
   "cell_type": "code",
   "execution_count": 8,
   "metadata": {
    "scrolled": false
   },
   "outputs": [
    {
     "name": "stdout",
     "output_type": "stream",
     "text": [
      "-------------------------------------------------------------------------------------------\n",
      "1\n",
      "https://www.nytimes.com/2019/03/12/world/asia/seungri-prostitution-south-korea.html\n",
      "https://www.nytimes.com/2019/03/13/world/asia/jung-joon-young-sex-videos.html\n",
      "https://www.nytimes.com/reuters/2019/04/09/business/09reuters-sony-thirdpoint-stocks.html\n",
      "https://www.nytimes.com/reuters/2019/04/08/business/08reuters-sony-thirdpoint-stocks.html\n",
      "https://www.nytimes.com/2019/04/10/books/review/women-talking-miriam-toews.html\n",
      "https://www.nytimes.com/aponline/2019/04/16/business/ap-us-caesars-ceo.html\n",
      "https://www.nytimes.com/reuters/2019/04/16/technology/16reuters-microsoft-at-t-esports.html\n",
      "https://www.nytimes.com/2019/03/26/todayspaper/quotation-of-the-day-lights-camera-apple-cupertino-goes-hollywood.html\n",
      "https://www.nytimes.com/aponline/2019/04/16/us/ap-us-itunes-apps-top-10.html\n",
      "https://www.nytimes.com/2019/04/11/business/widows-financial-planning-retirement.html\n",
      "-------------------------------------------------------------------------------------------\n",
      "2\n",
      "https://www.nytimes.com/2019/03/26/business/media/apple-tv-plus-hollywood.html\n",
      "https://www.nytimes.com/reuters/2019/04/16/arts/16reuters-film-avengers-endgame.html\n",
      "https://www.nytimes.com/2019/03/27/business/china-war-on-fun-earrings-tattoos.html\n",
      "https://www.nytimes.com/reuters/2019/04/09/arts/09reuters-television-game-of-thrones.html\n",
      "https://www.nytimes.com/2019/04/15/business/media/game-of-thrones-ratings.html\n",
      "https://www.nytimes.com/2019/02/06/theater/cirque-du-soleil-buys-the-works-entertainment.html\n",
      "https://www.nytimes.com/aponline/2019/04/09/business/ap-us-nielsens.html\n",
      "https://www.nytimes.com/aponline/2019/04/11/us/ap-us-disney-streaming-service.html\n",
      "https://www.nytimes.com/aponline/2019/04/15/arts/ap-us-music-jay-z.html\n",
      "https://www.nytimes.com/aponline/2019/04/15/us/ap-us-auburn-gymnast-injury.html\n",
      "-------------------------------------------------------------------------------------------\n",
      "3\n",
      "https://www.nytimes.com/2019/01/14/business/media/nbc-executive-changes.html\n",
      "https://www.nytimes.com/2019/02/04/business/media/-celebrity-backgrounds-media-relations.html\n",
      "https://www.nytimes.com/2019/03/06/style/red-rabbit-club.html\n",
      "https://www.nytimes.com/2019/04/02/business/airlines-cameras-privacy.html\n",
      "https://www.nytimes.com/aponline/2019/04/18/us/ap-us-truck-attack-plot.html\n",
      "https://www.nytimes.com/aponline/2019/04/17/us/ap-us-writers-agents-fight.html\n",
      "https://www.nytimes.com/aponline/2019/04/11/business/ap-us-chuck-e-cheese-ipo.html\n",
      "https://www.nytimes.com/reuters/2019/04/15/business/15reuters-vivendi-results.html\n",
      "https://www.nytimes.com/aponline/2019/04/13/us/ap-us-seaworld-layoffs.html\n",
      "https://www.nytimes.com/2019/03/24/fashion/weddings/raven-holzer-max-frankel.html\n",
      "-------------------------------------------------------------------------------------------\n",
      "4\n",
      "https://www.nytimes.com/2019/02/07/movies/weinstein-company-native-american-women.html\n",
      "https://www.nytimes.com/2019/04/02/opinion/letters/nra-domestic-abuse.html\n",
      "https://www.nytimes.com/2019/04/07/arts/music/popcast-lil-nas-x-old-town-road.html\n",
      "https://www.nytimes.com/2019/02/28/business/media/richard-plepler-hbo-ceo.html\n",
      "https://www.nytimes.com/2019/03/25/technology/apple-news-streaming-service.html\n",
      "https://www.nytimes.com/2019/04/07/business/media/writers-guild-talent-agencies.html\n",
      "https://www.nytimes.com/2019/02/27/business/media/bones-fox-arbitration-award.html\n",
      "https://www.nytimes.com/reuters/2019/04/18/technology/18reuters-uber-safety.html\n",
      "https://www.nytimes.com/2019/04/07/business/media/movie-rentals-red-carpet-home-cinema.html\n",
      "https://www.nytimes.com/reuters/2019/04/11/technology/11reuters-disney-bob-iger.html\n",
      "-------------------------------------------------------------------------------------------\n",
      "5\n",
      "https://www.nytimes.com/aponline/2019/04/11/business/ap-bbo-mlb-congress-regional-sports-networks.html\n",
      "https://www.nytimes.com/aponline/2019/04/11/business/ap-us-financial-markets-stocks.html\n",
      "https://www.nytimes.com/aponline/2019/04/09/world/europe/ap-eu-britain-theater-awards-list.html\n",
      "https://www.nytimes.com/aponline/2019/04/16/us/ap-us-tv-peabody-documentary-awards.html\n",
      "https://www.nytimes.com/2019/03/01/arts/music/popcast-hip-hop-star-newsmaker.html\n",
      "https://www.nytimes.com/2019/03/29/books/review/nickolas-butler-little-faith.html\n",
      "https://www.nytimes.com/aponline/2019/04/12/business/ap-us-financial-markets-stocks.html\n",
      "https://www.nytimes.com/2019/03/24/fashion/weddings/juli-weiner-michael-grynbaum.html\n",
      "https://www.nytimes.com/2019/01/29/us/politics/steven-mnuchin-russia-sanctions.html\n",
      "https://www.nytimes.com/2019/02/25/arts/television/stunt-accidents-penalty-safety.html\n",
      "-------------------------------------------------------------------------------------------\n",
      "6\n",
      "https://www.nytimes.com/2019/04/12/movies/the-silence-review.html\n",
      "https://www.nytimes.com/2019/03/10/fashion/weddings/alexis-shaw-jonathan-white.html\n",
      "https://www.nytimes.com/aponline/2019/04/13/us/ap-us-graceland-expansion.html\n",
      "https://www.nytimes.com/2019/04/10/arts/television/friars-club-nyc.html\n",
      "https://www.nytimes.com/reuters/2019/04/12/business/12reuters-walt-disney-streaming.html\n",
      "https://www.nytimes.com/reuters/2019/04/11/arts/11reuters-walt-disney-streaming.html\n",
      "https://www.nytimes.com/reuters/2019/04/10/arts/10reuters-film-theaters.html\n",
      "https://www.nytimes.com/2019/02/21/arts/jussie-smollett-empire-fox.html\n",
      "https://www.nytimes.com/2019/04/04/us/politics/jovita-carranza-small-business-administration.html\n",
      "https://www.nytimes.com/2019/03/04/business/media/att-warner-greenblatt.html\n",
      "-------------------------------------------------------------------------------------------\n",
      "7\n",
      "https://www.nytimes.com/2019/03/29/books/review/americas-jewish-women-pamela-s-nadell.html\n",
      "https://www.nytimes.com/2019/03/03/fashion/weddings/alexandra-cassel-benjamin-schwartz.html\n",
      "https://www.nytimes.com/2019/01/01/business/media/podcasts-hollywood-tv-shows.html\n",
      "https://www.nytimes.com/2019/01/30/movies/oscars-controversy.html\n",
      "https://www.nytimes.com/2019/04/10/sports/magic-johnson-los-angeles-lakers-lebron-james.html\n",
      "https://www.nytimes.com/2019/01/25/movies/streaming-car-wash.html\n",
      "https://www.nytimes.com/2019/03/04/business/media/robert-greenblatt-att-hbo.html\n",
      "https://www.nytimes.com/2019/01/10/business/media/showtime-gary-levine-jana-winograde.html\n",
      "https://www.nytimes.com/reuters/2019/04/13/world/asia/13reuters-australia-security-melbourne.html\n",
      "https://www.nytimes.com/2019/02/11/business/media/grammy-awards-show-ratings-cbs.html\n",
      "-------------------------------------------------------------------------------------------\n",
      "8\n",
      "https://www.nytimes.com/2019/03/01/business/media/richard-plepler-hbo-ceo.html\n",
      "https://www.nytimes.com/2019/01/04/movies/more-black-people-directed-top-films-study-says.html\n",
      "https://www.nytimes.com/reuters/2019/04/17/business/17reuters-eu-autos-technology.html\n",
      "https://www.nytimes.com/2019/02/04/learning/learning-with-patriots-win-in-lowest-scoring-super-bowl-ever.html\n",
      "https://www.nytimes.com/2019/04/11/theater/playboy-club-playboy-live.html\n",
      "https://www.nytimes.com/2019/03/17/business/media/apple-content-hollywood.html\n",
      "https://www.nytimes.com/reuters/2019/04/14/world/asia/14reuters-australia-security-melbourne.html\n",
      "https://www.nytimes.com/2019/03/14/us/politics/mnuchin-china-trade-hollywood.html\n",
      "https://www.nytimes.com/reuters/2019/04/09/business/09reuters-eu-autos-technology.html\n",
      "https://www.nytimes.com/reuters/2019/04/09/business/09reuters-britain-economy-retail.html\n",
      "-------------------------------------------------------------------------------------------\n",
      "9\n",
      "https://www.nytimes.com/reuters/2019/04/08/business/08reuters-britain-economy-retail.html\n",
      "https://www.nytimes.com/interactive/2019/02/15/business/economy/nyc-tech-startups-amazon.html\n",
      "https://www.nytimes.com/reuters/2019/04/15/business/15reuters-at-t-hulu.html\n",
      "https://www.nytimes.com/reuters/2019/04/14/world/asia/14reuters-australia-abuse-pell-media.html\n",
      "https://www.nytimes.com/2019/03/01/books/serial-box-to-partner-with-marvel.html\n",
      "https://www.nytimes.com/aponline/2019/04/17/sports/olympics/ap-oly-la-2028-nbc-marketing.html\n",
      "https://www.nytimes.com/2019/04/11/world/australia/geoffrey-rush-defamation.html\n",
      "https://www.nytimes.com/2019/02/05/theater/anastasia-musical-closing.html\n"
     ]
    },
    {
     "name": "stdout",
     "output_type": "stream",
     "text": [
      "https://www.nytimes.com/aponline/2019/04/14/sports/ap-hkw-world-championships.html\n",
      "https://www.nytimes.com/2019/01/06/style/lady-gaga-necklace-dress.html\n",
      "-------------------------------------------------------------------------------------------\n",
      "10\n",
      "https://www.nytimes.com/reuters/2019/04/12/us/12reuters-usa-texas-hacker.html\n",
      "https://www.nytimes.com/2019/01/06/business/media/netflix-saudi-arabia-censorship-hasan-minhaj.html\n",
      "https://www.nytimes.com/2019/01/13/opinion/letters/trump-success.html\n",
      "https://www.nytimes.com/2019/03/29/obituaries/michael-lynne-dead.html\n",
      "https://www.nytimes.com/2019/03/06/obituaries/hugh-fordin-writer-and-record-producer-is-dead-at-83.html\n",
      "https://www.nytimes.com/2019/02/11/world/middleeast/saudi-arabia-tourism-music-festival.html\n",
      "https://www.nytimes.com/2019/03/22/multimedia/netflix-apple-tv-streaming.html\n",
      "https://www.nytimes.com/2019/02/11/world/middleeast/iran-40-anniversary-rally.html\n",
      "https://www.nytimes.com/reuters/2019/04/16/business/16reuters-usa-stocks-netflix.html\n",
      "https://www.nytimes.com/2019/03/03/crosswords/daily-puzzle-2019-03-04.html\n"
     ]
    }
   ],
   "source": [
    "f=open('nyturlentertainment','w')\n",
    "Articles=get_articles(\"entertainment\")\n",
    "for i in range(len(Articles)):\n",
    "    f.write(Articles[i])"
   ]
  },
  {
   "cell_type": "code",
   "execution_count": null,
   "metadata": {},
   "outputs": [],
   "source": []
  },
  {
   "cell_type": "code",
   "execution_count": 99,
   "metadata": {},
   "outputs": [
    {
     "data": {
      "text/plain": [
       "100"
      ]
     },
     "execution_count": 99,
     "metadata": {},
     "output_type": "execute_result"
    }
   ],
   "source": []
  },
  {
   "cell_type": "code",
   "execution_count": null,
   "metadata": {},
   "outputs": [],
   "source": []
  },
  {
   "cell_type": "code",
   "execution_count": null,
   "metadata": {},
   "outputs": [],
   "source": []
  },
  {
   "cell_type": "code",
   "execution_count": null,
   "metadata": {},
   "outputs": [],
   "source": []
  },
  {
   "cell_type": "code",
   "execution_count": null,
   "metadata": {},
   "outputs": [],
   "source": []
  },
  {
   "cell_type": "code",
   "execution_count": null,
   "metadata": {},
   "outputs": [],
   "source": [
    "\n"
   ]
  },
  {
   "cell_type": "code",
   "execution_count": null,
   "metadata": {},
   "outputs": [],
   "source": []
  },
  {
   "cell_type": "code",
   "execution_count": null,
   "metadata": {},
   "outputs": [],
   "source": []
  },
  {
   "cell_type": "code",
   "execution_count": null,
   "metadata": {},
   "outputs": [],
   "source": []
  },
  {
   "cell_type": "code",
   "execution_count": null,
   "metadata": {},
   "outputs": [],
   "source": []
  },
  {
   "cell_type": "code",
   "execution_count": null,
   "metadata": {
    "scrolled": false
   },
   "outputs": [],
   "source": []
  },
  {
   "cell_type": "code",
   "execution_count": null,
   "metadata": {},
   "outputs": [],
   "source": []
  },
  {
   "cell_type": "code",
   "execution_count": null,
   "metadata": {},
   "outputs": [],
   "source": []
  },
  {
   "cell_type": "code",
   "execution_count": null,
   "metadata": {},
   "outputs": [],
   "source": []
  }
 ],
 "metadata": {
  "kernelspec": {
   "display_name": "Python 3",
   "language": "python",
   "name": "python3"
  },
  "language_info": {
   "codemirror_mode": {
    "name": "ipython",
    "version": 3
   },
   "file_extension": ".py",
   "mimetype": "text/x-python",
   "name": "python",
   "nbconvert_exporter": "python",
   "pygments_lexer": "ipython3",
   "version": "3.5.2"
  }
 },
 "nbformat": 4,
 "nbformat_minor": 2
}
