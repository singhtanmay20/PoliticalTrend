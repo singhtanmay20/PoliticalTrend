{
 "cells": [
  {
   "cell_type": "code",
   "execution_count": 91,
   "metadata": {},
   "outputs": [],
   "source": [
    "from nytimesarticle import articleAPI\n",
    "api = articleAPI('MqGpINkbKmy15GOA36p7DYm09JTXSAaO ')\n",
    "import json\n",
    "import urllib.request\n",
    "from bs4 import BeautifulSoup\n",
    "all_articles = []"
   ]
  },
  {
   "cell_type": "code",
   "execution_count": 96,
   "metadata": {},
   "outputs": [],
   "source": [
    "def get_articles(query):\n",
    "    \n",
    "    for i in range(7,11): \n",
    "        articles = api.search(q = query, begin_date=20190101,page=i)\n",
    "        print(\"-------------------------------------------------------------------------------------------\")\n",
    "        print(i)\n",
    "        if(\"response\" in articles):\n",
    "            \n",
    "            for items in articles[\"response\"][\"docs\"]:\n",
    "                article_url=items[\"web_url\"]\n",
    "                f=open('nytarts'+i+\".txt\",'a')\n",
    "                soup = BeautifulSoup(urllib.request.urlopen(article_url), 'html.parser')\n",
    "                soup.prettify()\n",
    "                for i in range((len(soup.find_all('p')))-3):\n",
    "                    f.write(soup.find_all('p')[i].get_text())\n",
    "                print(article_url)\n",
    "                all_articles.append(article_url)\n",
    "    return(all_articles)\n"
   ]
  },
  {
   "cell_type": "code",
   "execution_count": 97,
   "metadata": {
    "scrolled": false
   },
   "outputs": [
    {
     "name": "stdout",
     "output_type": "stream",
     "text": [
      "-------------------------------------------------------------------------------------------\n",
      "7\n",
      "https://www.nytimes.com/2019/01/17/books/review/8-new-books-we-recommend-this-week.html\n",
      "https://www.nytimes.com/2019/01/28/books/meg-medina-newbery-medal-sophie-blackall-caldecott.html\n",
      "https://www.nytimes.com/2019/02/05/books/review/einsteins-shadow-seth-fletcher-albert-einstein.html\n",
      "https://www.nytimes.com/2019/04/02/books/review/changing-earth-last-whalers.html\n",
      "https://www.nytimes.com/2019/01/18/books/hot-books-cold-days-weather-snowstorm.html\n",
      "https://www.nytimes.com/2019/03/07/books/review/8-new-books-we-recommend-this-week.html\n",
      "https://www.nytimes.com/2019/01/31/books/review/10-new-books-we-recommend-this-week.html\n",
      "https://www.nytimes.com/2019/02/07/books/review/9-new-books-we-recommend-this-week.html\n",
      "https://www.nytimes.com/2019/01/15/books/los-angeles-teachers-strike-education-schools.html\n",
      "https://www.nytimes.com/2019/04/15/books/review-baby-i-dont-care-chelsey-minnis.html\n",
      "-------------------------------------------------------------------------------------------\n",
      "8\n",
      "https://www.nytimes.com/2019/02/23/books/review/tomi-ungerer-appreciation.html\n",
      "https://www.nytimes.com/2019/02/07/t-magazine/gay-children-book-authors.html\n",
      "https://www.nytimes.com/2019/01/24/books/review/9-new-books-we-recommend-this-week.html\n",
      "https://www.nytimes.com/2019/02/14/arts/maurice-sendak-enthusiast.html\n",
      "https://www.nytimes.com/2019/01/08/books/trump-shutdown-wall-immigration.html\n",
      "https://www.nytimes.com/2019/04/03/world/europe/turkey-istanbul-erdogan-ekrem-imamoglu.html\n",
      "https://www.nytimes.com/2019/03/15/books/review/womens-history-childrens-picture-books.html\n",
      "https://www.nytimes.com/2019/01/03/books/review/11-new-books-we-recommend-this-week.html\n",
      "https://www.nytimes.com/2019/03/14/t-magazine/owl-bureau-los-angeles-book-store.html\n",
      "https://www.nytimes.com/2019/02/22/obituaries/web-griffin-dies.html\n",
      "-------------------------------------------------------------------------------------------\n",
      "9\n",
      "https://www.nytimes.com/2019/04/11/books/esmeralda-santiago-lilliam-rivera.html\n",
      "https://www.nytimes.com/2019/02/25/books/nyrb-emily-greenhouse-gabriel-winslowyost.html\n",
      "https://www.nytimes.com/2019/01/10/books/review/8-new-books-we-recommend-this-week.html\n",
      "https://www.nytimes.com/2019/02/06/learning/globe-and-books.html\n",
      "https://www.nytimes.com/2019/04/10/books/review/sarah-blake-naamah.html\n",
      "https://www.nytimes.com/2019/03/07/style/design-books-history-recommendations.html\n",
      "https://www.nytimes.com/2019/02/12/obituaries/heidi-toffler-dead.html\n",
      "https://www.nytimes.com/2019/02/22/books/review/at-wolfs-table-rosella-postorino.html\n",
      "https://www.nytimes.com/2019/02/06/books/review/house-mirth-edith-wharton.html\n",
      "https://www.nytimes.com/2019/01/14/books/review/jason-rezaian-prisoner.html\n",
      "-------------------------------------------------------------------------------------------\n",
      "10\n",
      "https://www.nytimes.com/2019/01/30/style/bauman-books.html\n",
      "https://www.nytimes.com/2019/03/18/books/review-lot-bryan-washington.html\n",
      "https://www.nytimes.com/2019/04/04/books/review/bangkok-veeraporn-nitiprapha-pitchaya-sudbanthad.html\n",
      "https://www.nytimes.com/2019/03/02/nyregion/new-york-library-books.html\n",
      "https://www.nytimes.com/2019/01/25/books/review/meg-wolitzer-holly-goldberg-sloan-to-night-owl-from-dogfish.html\n",
      "https://www.nytimes.com/2019/03/09/books/scathing-reviews-classic-books.html\n",
      "https://www.nytimes.com/2019/03/22/us/baltimore-mayor-catherine-pugh-book-scandal.html\n",
      "https://www.nytimes.com/2019/04/02/us/politics/prepublication-censorship-system.html\n",
      "https://www.nytimes.com/2019/02/01/books/review/yiyun-li-where-reasons-end.html\n",
      "https://www.nytimes.com/2019/03/06/books/review-uninhabitable-earth-life-after-warming-david-wallace-wells.html\n"
     ]
    }
   ],
   "source": [
    "f=open('nyturlbooks','a')\n",
    "Articles=get_articles(\"books\")\n",
    "for i in range(len(Articles)):\n",
    "    f.write(Articles[i])"
   ]
  },
  {
   "cell_type": "code",
   "execution_count": 98,
   "metadata": {},
   "outputs": [],
   "source": []
  },
  {
   "cell_type": "code",
   "execution_count": 99,
   "metadata": {},
   "outputs": [
    {
     "data": {
      "text/plain": [
       "100"
      ]
     },
     "execution_count": 99,
     "metadata": {},
     "output_type": "execute_result"
    }
   ],
   "source": []
  },
  {
   "cell_type": "code",
   "execution_count": null,
   "metadata": {},
   "outputs": [],
   "source": []
  },
  {
   "cell_type": "code",
   "execution_count": null,
   "metadata": {},
   "outputs": [],
   "source": []
  },
  {
   "cell_type": "code",
   "execution_count": null,
   "metadata": {},
   "outputs": [],
   "source": []
  },
  {
   "cell_type": "code",
   "execution_count": null,
   "metadata": {},
   "outputs": [],
   "source": []
  },
  {
   "cell_type": "code",
   "execution_count": null,
   "metadata": {},
   "outputs": [],
   "source": [
    "\n"
   ]
  },
  {
   "cell_type": "code",
   "execution_count": null,
   "metadata": {},
   "outputs": [],
   "source": []
  },
  {
   "cell_type": "code",
   "execution_count": null,
   "metadata": {},
   "outputs": [],
   "source": []
  },
  {
   "cell_type": "code",
   "execution_count": null,
   "metadata": {},
   "outputs": [],
   "source": []
  },
  {
   "cell_type": "code",
   "execution_count": null,
   "metadata": {},
   "outputs": [],
   "source": []
  },
  {
   "cell_type": "code",
   "execution_count": null,
   "metadata": {
    "scrolled": false
   },
   "outputs": [],
   "source": []
  },
  {
   "cell_type": "code",
   "execution_count": null,
   "metadata": {},
   "outputs": [],
   "source": []
  },
  {
   "cell_type": "code",
   "execution_count": null,
   "metadata": {},
   "outputs": [],
   "source": []
  },
  {
   "cell_type": "code",
   "execution_count": null,
   "metadata": {},
   "outputs": [],
   "source": []
  }
 ],
 "metadata": {
  "kernelspec": {
   "display_name": "Python 3",
   "language": "python",
   "name": "python3"
  },
  "language_info": {
   "codemirror_mode": {
    "name": "ipython",
    "version": 3
   },
   "file_extension": ".py",
   "mimetype": "text/x-python",
   "name": "python",
   "nbconvert_exporter": "python",
   "pygments_lexer": "ipython3",
   "version": "3.5.2"
  }
 },
 "nbformat": 4,
 "nbformat_minor": 2
}
