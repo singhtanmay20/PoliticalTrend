{
 "cells": [
  {
   "cell_type": "code",
   "execution_count": null,
   "metadata": {},
   "outputs": [],
   "source": [
    "from nltk.tokenize import RegexpTokenizer\n",
    "\n",
    "for i in range(1,999):\n",
    "    f2=open(\"/home/tanmay/Documents/DIC/Proj2/tanmaypr_pjain5_Lab2/part1/Data/COMMON-CRAWL/ccarticle\"+str(i)+\".txt\",\"r\")\n",
    "\n",
    "    lines=f2.readlines()\n",
    "\n",
    "    f6=open(\"/home/tanmay/Documents/DIC/Proj2/waste/tp\"+str(i)+\".txt\",\"w\")\n",
    "\n",
    "    tokenizer = RegexpTokenizer(r'\\w+')\n",
    "    for line in lines:\n",
    "        words = line.split()\n",
    "        for word in words:\n",
    "           # print(word)\n",
    "            t1=tokenizer.tokenize(word.lower())\n",
    "\n",
    "            for r in t1:\n",
    "                f6.write(\"%s\\t\"%r)\n",
    "                print(\"%s\\t\"%r)\n",
    "        f6.write(\"\\n\")"
   ]
  },
  {
   "cell_type": "code",
   "execution_count": null,
   "metadata": {},
   "outputs": [],
   "source": [
    "import io\n",
    "    import nltk\n",
    "    nltk.download('punkt')\n",
    "    from nltk.corpus import stopwords\n",
    "    from nltk.tokenize import word_tokenize\n",
    "    from nltk.stem import PorterStemmer\n",
    "    from nltk.tokenize import sent_tokenize, word_tokenize\n",
    "    ps = PorterStemmer() \n",
    "    stop_words = set(stopwords.words('english'))\n",
    "    for i in range(1,999):\n",
    "        file1 = open(\"/home/tanmay/Documents/DIC/Proj2/waste/tp\"+str(i)+\".txt\",\"r\")\n",
    "        lines = file1.readlines()\n",
    "        f=open(\"/home/tanmay/Documents/DIC/Proj2/tanmaypr_pjain5_Lab2/part1/Data/COMMON-CRAWL-cleaned/ccarticle\"+str(i)+\".txt\",\"w\")\n",
    "        for line in lines:\n",
    "            #print(lines)\n",
    "            words = line.split()\n",
    "            print(words)\n",
    "            for word in words:\n",
    "                if not word.lower() in stop_words:\n",
    "                    f.write(\"%s\\t\"% (nltk.stem.WordNetLemmatizer().lemmatize(word)))\n",
    "                    #print()\n",
    "            f.write(\"\\n\")\n",
    "    "
   ]
  }
 ],
 "metadata": {
  "kernelspec": {
   "display_name": "Python 3",
   "language": "python",
   "name": "python3"
  },
  "language_info": {
   "codemirror_mode": {
    "name": "ipython",
    "version": 3
   },
   "file_extension": ".py",
   "mimetype": "text/x-python",
   "name": "python",
   "nbconvert_exporter": "python",
   "pygments_lexer": "ipython3",
   "version": "3.5.2"
  }
 },
 "nbformat": 4,
 "nbformat_minor": 2
}
